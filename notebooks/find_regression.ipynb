{
 "cells": [
  {
   "cell_type": "markdown",
   "metadata": {
    "id": "ir7_gq53qkUC"
   },
   "source": [
    "# AI Feynman 2.0: Learning Regression Equations From Data"
   ]
  },
  {
   "cell_type": "markdown",
   "metadata": {
    "id": "e2Lh5Lakqo_l"
   },
   "source": [
    "### Clone repository and install dependencies"
   ]
  },
  {
   "cell_type": "code",
   "execution_count": 19,
   "metadata": {
    "colab": {
     "base_uri": "https://localhost:8080/"
    },
    "id": "EBVOTDjUWEzw",
    "outputId": "b714e538-9f7c-4047-b8e3-2afb660b4da3"
   },
   "outputs": [
    {
     "name": "stdout",
     "output_type": "stream",
     "text": [
      "Cloning into 'AI-Feynman'...\n",
      "remote: Enumerating objects: 525, done.\u001b[K\n",
      "remote: Counting objects: 100% (32/32), done.\u001b[K\n",
      "remote: Compressing objects: 100% (23/23), done.\u001b[K\n",
      "remote: Total 525 (delta 11), reused 25 (delta 9), pack-reused 493\u001b[K\n",
      "Receiving objects: 100% (525/525), 31.36 MiB | 14.00 MiB/s, done.\n",
      "Resolving deltas: 100% (318/318), done.\n",
      "/bin/bash: line 1: cd: /content/AI-Feynman: No such file or directory\n"
     ]
    }
   ],
   "source": [
    "!git clone https://github.com/SJ001/AI-Feynman.git\n",
    "!cd /content/AI-Feynman && git reset --hard 28edde1a36a166a081de84999ab4fd40071957db"
   ]
  },
  {
   "cell_type": "markdown",
   "metadata": {
    "id": "0_s1t2sIqwnK"
   },
   "source": [
    "Look at what we downloaded"
   ]
  },
  {
   "cell_type": "markdown",
   "metadata": {
    "id": "zNyUWmlYq-Rk"
   },
   "source": [
    "Fix broken requirements file (may not be needed if later versions fix this)."
   ]
  },
  {
   "cell_type": "code",
   "execution_count": 13,
   "metadata": {
    "colab": {
     "base_uri": "https://localhost:8080/"
    },
    "id": "6JmUiyv3W95L",
    "outputId": "5eeb0b7b-14ee-4263-fe50-b4af65631b71"
   },
   "outputs": [
    {
     "name": "stdout",
     "output_type": "stream",
     "text": [
      "Overwriting ./AI-Feynman/requirements.txt\n"
     ]
    }
   ],
   "source": [
    "%%writefile ./AI-Feynman/requirements.txt\n",
    "torch==1.10.0\n",
    "torchvision==0.11.1\n",
    "torchtext==0.11.0\n",
    "matplotlib\n",
    "sympy==1.4\n",
    "numpy==1.21.0\n",
    "pandas\n",
    "scipy\n",
    "sortedcontainers"
   ]
  },
  {
   "cell_type": "markdown",
   "metadata": {
    "id": "Kbqe9q-SrE4q"
   },
   "source": [
    "Install dependencies not already installed in Google Collab"
   ]
  },
  {
   "cell_type": "code",
   "execution_count": 15,
   "metadata": {
    "colab": {
     "base_uri": "https://localhost:8080/"
    },
    "id": "Um22QVI3WlJT",
    "outputId": "08f25d03-e2a8-476b-f2ed-2842f5a04ed1"
   },
   "outputs": [
    {
     "name": "stdout",
     "output_type": "stream",
     "text": [
      "Defaulting to user installation because normal site-packages is not writeable\n",
      "\u001b[31mERROR: Could not find a version that satisfies the requirement torch==1.10.0\u001b[0m\n",
      "\u001b[31mERROR: No matching distribution found for torch==1.10.0\u001b[0m\n"
     ]
    }
   ],
   "source": [
    "!pip3 install -r ./AI-Feynman/requirements.txt"
   ]
  },
  {
   "cell_type": "markdown",
   "metadata": {
    "id": "fR33HG3TrLRL"
   },
   "source": [
    "Check that fortran is installed"
   ]
  },
  {
   "cell_type": "code",
   "execution_count": null,
   "metadata": {
    "colab": {
     "base_uri": "https://localhost:8080/"
    },
    "id": "WwBFL0AwXcUZ",
    "outputId": "c41b6b19-0e8b-4621-dde0-f15ff4bf0c8e"
   },
   "outputs": [
    {
     "name": "stdout",
     "output_type": "stream",
     "text": [
      "GNU Fortran (Ubuntu 7.5.0-3ubuntu1~18.04) 7.5.0\n",
      "Copyright (C) 2017 Free Software Foundation, Inc.\n",
      "This is free software; see the source for copying conditions.  There is NO\n",
      "warranty; not even for MERCHANTABILITY or FITNESS FOR A PARTICULAR PURPOSE.\n",
      "\n"
     ]
    }
   ],
   "source": [
    "!gfortran --version"
   ]
  },
  {
   "cell_type": "markdown",
   "metadata": {
    "id": "FtKFAwpNsHX7"
   },
   "source": [
    "Check the OS version"
   ]
  },
  {
   "cell_type": "code",
   "execution_count": 8,
   "metadata": {
    "colab": {
     "base_uri": "https://localhost:8080/"
    },
    "id": "Hy62bRwAcp5g",
    "outputId": "7e1fc4ea-44c4-4e60-ce89-d62730456028"
   },
   "outputs": [
    {
     "name": "stdout",
     "output_type": "stream",
     "text": [
      "LSB Version:\tn/a\r\n",
      "Distributor ID:\tManjaroLinux\r\n",
      "Description:\tManjaro Linux\r\n",
      "Release:\t21.2.6\r\n",
      "Codename:\tQonos\r\n"
     ]
    }
   ],
   "source": [
    "!lsb_release -a"
   ]
  },
  {
   "cell_type": "markdown",
   "metadata": {
    "id": "NTOdJQLOrv20"
   },
   "source": [
    "Install the csh shell"
   ]
  },
  {
   "cell_type": "code",
   "execution_count": 9,
   "metadata": {
    "colab": {
     "base_uri": "https://localhost:8080/"
    },
    "id": "F5TroOkDc9jK",
    "outputId": "0e864dbc-bfcf-4bb4-f396-c9a1a50a3dfe"
   },
   "outputs": [
    {
     "name": "stdout",
     "output_type": "stream",
     "text": [
      "[sudo] password for shastro: \n"
     ]
    }
   ],
   "source": [
    "!sudo apt-get install csh"
   ]
  },
  {
   "cell_type": "markdown",
   "metadata": {
    "id": "8KcupiFsr4gr"
   },
   "source": [
    "Set loose permissions to avoid some reported file permissions issues"
   ]
  },
  {
   "cell_type": "code",
   "execution_count": 11,
   "metadata": {
    "id": "QJBFXqQVX5AN"
   },
   "outputs": [
    {
     "name": "stdout",
     "output_type": "stream",
     "text": [
      "chmod: cannot access './AI-Feynman/Code/*': No such file or directory\r\n"
     ]
    }
   ],
   "source": [
    "!chmod +777 ./AI-Feynman/Code/*"
   ]
  },
  {
   "cell_type": "markdown",
   "metadata": {
    "id": "pgzVt-kUrbmj"
   },
   "source": [
    "### Compile the fortran code"
   ]
  },
  {
   "cell_type": "markdown",
   "metadata": {
    "id": "4MotXJzusela"
   },
   "source": [
    "Look at the code directory"
   ]
  },
  {
   "cell_type": "code",
   "execution_count": 2,
   "metadata": {
    "colab": {
     "base_uri": "https://localhost:8080/"
    },
    "id": "xxzHegrIYa8e",
    "outputId": "b2784608-afdd-4d23-8f2a-722ecdecda51"
   },
   "outputs": [
    {
     "name": "stdout",
     "output_type": "stream",
     "text": [
      "total 1396\r\n",
      "-rwxr-xr-x 1 shastro shastro     11 May  2 15:05 10ops.txt\r\n",
      "-rwxr-xr-x 1 shastro shastro     15 May  2 15:05 14ops.txt\r\n",
      "-rwxr-xr-x 1 shastro shastro     19 May  2 15:05 19ops.txt\r\n",
      "-rwxr-xr-x 1 shastro shastro      8 May  2 15:05 7ops.txt\r\n",
      "-rwxr-xr-x 1 shastro shastro    138 May  2 15:05 ai_feynman_example.py\r\n",
      "-rwxr-xr-x 1 shastro shastro   1287 May  2 15:05 ai_feynman_terminal_example.py\r\n",
      "-rwxr-xr-x 1 shastro shastro 960508 May  2 15:05 arity2templates.txt\r\n",
      "-r-xr-xr-x 1 shastro shastro    653 May  2 15:05 brute_force_oneFile_mdl_v2.scr\r\n",
      "-r-xr-xr-x 1 shastro shastro    654 May  2 15:05 brute_force_oneFile_mdl_v3.scr\r\n",
      "-r-xr-xr-x 1 shastro shastro    541 May  2 15:05 brute_force_oneFile_v1.scr\r\n",
      "-r-xr-xr-x 1 shastro shastro    608 May  2 15:05 brute_force_oneFile_v2.scr\r\n",
      "-r-xr-xr-x 1 shastro shastro    609 May  2 15:05 brute_force_oneFile_v3.scr\r\n",
      "-rwxr-xr-x 1 shastro shastro    616 May  2 15:05 compile.sh\r\n",
      "-rwxr-xr-x 1 shastro shastro   4444 May  2 15:05 dimensionalAnalysis.py\r\n",
      "-rwxr-xr-x 1 shastro shastro   6168 May  2 15:05 get_pareto.py\r\n",
      "-rwxr-xr-x 1 shastro shastro   1745 May  2 15:05 getPowers.py\r\n",
      "drwxr-xr-x 2 shastro shastro   4096 May  2 15:09 __pycache__\r\n",
      "-rwxr-xr-x 1 shastro shastro   2395 May  2 15:05 RPN_to_eq.py\r\n",
      "-rwxr-xr-x 1 shastro shastro   5232 May  2 15:05 RPN_to_pytorch.py\r\n",
      "-rwxr-xr-x 1 shastro shastro   5457 May  2 15:05 S_add_bf_on_numbers_on_pareto.py\r\n",
      "-rwxr-xr-x 1 shastro shastro   7962 May  2 15:05 S_add_snap_expr_on_pareto_polyfit.py\r\n",
      "-rwxr-xr-x 1 shastro shastro   9774 May  2 15:05 S_add_snap_expr_on_pareto.py\r\n",
      "-rwxr-xr-x 1 shastro shastro    902 May  2 15:05 S_add_sym_on_pareto.py\r\n",
      "-rwxr-xr-x 1 shastro shastro    627 May  2 15:05 S_brute_force_number.py\r\n",
      "-rwxr-xr-x 1 shastro shastro   1151 May  2 15:05 S_brute_force.py\r\n",
      "-rwxr-xr-x 1 shastro shastro   5519 May  2 15:05 S_change_output.py\r\n",
      "-rwxr-xr-x 1 shastro shastro   1509 May  2 15:05 S_combine_pareto.py\r\n",
      "-rwxr-xr-x 1 shastro shastro   5668 May  2 15:05 S_final_gd.py\r\n",
      "-rwxr-xr-x 1 shastro shastro    478 May  2 15:05 S_get_number_DL.py\r\n",
      "-rwxr-xr-x 1 shastro shastro    726 May  2 15:05 S_get_number_DL_snapped.py\r\n",
      "-rwxr-xr-x 1 shastro shastro   1857 May  2 15:05 S_get_symbolic_expr_error.py\r\n",
      "-rwxr-xr-x 1 shastro shastro   3789 May  2 15:05 S_NN_eval.py\r\n",
      "-rwxr-xr-x 1 shastro shastro   5052 May  2 15:05 S_NN_train.py\r\n",
      "-rwxr-xr-x 1 shastro shastro   2665 May  2 15:05 S_polyfit.py\r\n",
      "-rwxr-xr-x 1 shastro shastro   1537 May  2 15:05 S_polyfit_utils.py\r\n",
      "-rwxr-xr-x 1 shastro shastro   1259 May  2 15:05 S_remove_input_neuron.py\r\n",
      "-rwxr-xr-x 1 shastro shastro  11505 May  2 15:05 S_run_aifeynman.py\r\n",
      "-rwxr-xr-x 1 shastro shastro  12007 May  2 15:05 S_run_bf_polyfit.py\r\n",
      "-rwxr-xr-x 1 shastro shastro  14519 May  2 15:05 S_separability.py\r\n",
      "-rwxr-xr-x 1 shastro shastro   2570 May  2 15:05 S_snap.py\r\n",
      "-rwxr-xr-x 1 shastro shastro  20319 May  2 15:05 S_symmetry.py\r\n",
      "-rwxr-xr-x 1 shastro shastro   5247 May  2 15:05 symbolic_regress1.f\r\n",
      "-rwxr-xr-x 1 shastro shastro  26576 May  2 15:08 symbolic_regress1.x\r\n",
      "-rwxr-xr-x 1 shastro shastro   9151 May  2 15:05 symbolic_regress2.f\r\n",
      "-rwxr-xr-x 1 shastro shastro  26472 May  2 15:08 symbolic_regress2.x\r\n",
      "-rwxr-xr-x 1 shastro shastro   9141 May  2 15:05 symbolic_regress3.f\r\n",
      "-rwxr-xr-x 1 shastro shastro  26472 May  2 15:08 symbolic_regress3.x\r\n",
      "-rwxr-xr-x 1 shastro shastro   8162 May  2 15:05 symbolic_regress_mdl2.f\r\n",
      "-rwxr-xr-x 1 shastro shastro  31192 May  2 15:08 symbolic_regress_mdl2.x\r\n",
      "-rwxr-xr-x 1 shastro shastro   9135 May  2 15:05 symbolic_regress_mdl3.f\r\n",
      "-rwxr-xr-x 1 shastro shastro  31224 May  2 15:08 symbolic_regress_mdl3.x\r\n",
      "-rwxr-xr-x 1 shastro shastro   9590 May  2 15:05 tools.f\r\n"
     ]
    }
   ],
   "source": [
    "!ls -l AI-Feynman/Code"
   ]
  },
  {
   "cell_type": "markdown",
   "metadata": {
    "id": "jsdWh0MbsZ9e"
   },
   "source": [
    "Compile .f files into .x files"
   ]
  },
  {
   "cell_type": "code",
   "execution_count": 24,
   "metadata": {
    "id": "cHJqLCM_dRzD"
   },
   "outputs": [
    {
     "name": "stdout",
     "output_type": "stream",
     "text": [
      "/bin/bash: line 1: cd: /content/AI-Feynman/Code/: No such file or directory\r\n"
     ]
    }
   ],
   "source": [
    "!cd /content/AI-Feynman/Code/ && ./compile.sh"
   ]
  },
  {
   "cell_type": "markdown",
   "metadata": {
    "id": "4yfMwApUtwQT"
   },
   "source": [
    "### Run the first example from the AI-Feynman repository"
   ]
  },
  {
   "cell_type": "markdown",
   "metadata": {
    "id": "srBnePXLs2jT"
   },
   "source": [
    "Change working directory to the Code directory"
   ]
  },
  {
   "cell_type": "code",
   "execution_count": 18,
   "metadata": {
    "colab": {
     "base_uri": "https://localhost:8080/"
    },
    "id": "RsOEGP9-s0bq",
    "outputId": "84e6b7ff-baf0-4688-e35b-450a23281e2d"
   },
   "outputs": [
    {
     "ename": "FileNotFoundError",
     "evalue": "[Errno 2] No such file or directory: 'AI-Feynman/Code/'",
     "output_type": "error",
     "traceback": [
      "\u001b[0;31m---------------------------------------------------------------------------\u001b[0m",
      "\u001b[0;31mFileNotFoundError\u001b[0m                         Traceback (most recent call last)",
      "Input \u001b[0;32mIn [18]\u001b[0m, in \u001b[0;36m<cell line: 2>\u001b[0;34m()\u001b[0m\n\u001b[1;32m      1\u001b[0m \u001b[38;5;28;01mimport\u001b[39;00m \u001b[38;5;21;01mos\u001b[39;00m\n\u001b[0;32m----> 2\u001b[0m \u001b[43mos\u001b[49m\u001b[38;5;241;43m.\u001b[39;49m\u001b[43mchdir\u001b[49m\u001b[43m(\u001b[49m\u001b[38;5;124;43m\"\u001b[39;49m\u001b[38;5;124;43mAI-Feynman/Code/\u001b[39;49m\u001b[38;5;124;43m\"\u001b[39;49m\u001b[43m)\u001b[49m\n\u001b[1;32m      3\u001b[0m \u001b[38;5;28mprint\u001b[39m(os\u001b[38;5;241m.\u001b[39mgetcwd())\n",
      "\u001b[0;31mFileNotFoundError\u001b[0m: [Errno 2] No such file or directory: 'AI-Feynman/Code/'"
     ]
    }
   ],
   "source": [
    "import os\n",
    "os.chdir(\"AI-Feynman/Code/\")\n",
    "print(os.getcwd())"
   ]
  },
  {
   "cell_type": "code",
   "execution_count": 12,
   "metadata": {
    "colab": {
     "base_uri": "https://localhost:8080/"
    },
    "id": "Qg8AHI11tBqj",
    "outputId": "0a6997f8-6a9d-4872-f67a-c517a8af89c2"
   },
   "outputs": [
    {
     "name": "stdout",
     "output_type": "stream",
     "text": [
      "/home/shastro/tech2022/CSE489/git/notebooks/AI-Feynman/Code\r\n"
     ]
    }
   ],
   "source": [
    "\n",
    "!pwd"
   ]
  },
  {
   "cell_type": "markdown",
   "metadata": {
    "id": "rjtWDJtoz9FM"
   },
   "source": [
    "Check that the bruteforce code runs without errors"
   ]
  },
  {
   "cell_type": "code",
   "execution_count": 15,
   "metadata": {
    "colab": {
     "base_uri": "https://localhost:8080/"
    },
    "id": "NBfG5D3VzLwU",
    "outputId": "4bc77f09-76de-4a82-8c8f-7afc1e8ff9fe"
   },
   "outputs": [
    {
     "ename": "FileNotFoundError",
     "evalue": "[Errno 2] No such file or directory: './brute_force_oneFile_v2.scr'",
     "output_type": "error",
     "traceback": [
      "\u001b[0;31m---------------------------------------------------------------------------\u001b[0m",
      "\u001b[0;31mFileNotFoundError\u001b[0m                         Traceback (most recent call last)",
      "Input \u001b[0;32mIn [15]\u001b[0m, in \u001b[0;36m<cell line: 2>\u001b[0;34m()\u001b[0m\n\u001b[1;32m      1\u001b[0m \u001b[38;5;28;01mfrom\u001b[39;00m \u001b[38;5;21;01mS_brute_force\u001b[39;00m \u001b[38;5;28;01mimport\u001b[39;00m brute_force\n\u001b[0;32m----> 2\u001b[0m \u001b[43mbrute_force\u001b[49m\u001b[43m(\u001b[49m\u001b[38;5;124;43m\"\u001b[39;49m\u001b[38;5;124;43m/home/shastro/tech2022/CSE489/git/notebooks/AI-Feynman/Code\u001b[39;49m\u001b[38;5;124;43m\"\u001b[39;49m\u001b[43m,\u001b[49m\u001b[38;5;124;43m\"\u001b[39;49m\u001b[38;5;124;43m/home/shastro/tech2022/CSE489/git/notebooks/AI-Feynman/example_data/example1.txt\u001b[39;49m\u001b[38;5;124;43m\"\u001b[39;49m\u001b[43m,\u001b[49m\u001b[38;5;241;43m30\u001b[39;49m\u001b[43m,\u001b[49m\u001b[38;5;124;43m\"\u001b[39;49m\u001b[38;5;124;43m/home/shastro/tech2022/CSE489/git/notebooks/AI-Feynman/Code/14ops.txt\u001b[39;49m\u001b[38;5;124;43m\"\u001b[39;49m\u001b[43m)\u001b[49m\n",
      "File \u001b[0;32m~/tech2022/CSE489/git/notebooks/AI-Feynman/Code/S_brute_force.py:25\u001b[0m, in \u001b[0;36mbrute_force\u001b[0;34m(pathdir, filename, BF_try_time, BF_ops_file_type, sep_type)\u001b[0m\n\u001b[1;32m     23\u001b[0m     \u001b[38;5;28;01mpass\u001b[39;00m\n\u001b[1;32m     24\u001b[0m \u001b[38;5;28;01mif\u001b[39;00m sep_type\u001b[38;5;241m==\u001b[39m\u001b[38;5;124m\"\u001b[39m\u001b[38;5;124m*\u001b[39m\u001b[38;5;124m\"\u001b[39m:\n\u001b[0;32m---> 25\u001b[0m     \u001b[43msubprocess\u001b[49m\u001b[38;5;241;43m.\u001b[39;49m\u001b[43mcall\u001b[49m\u001b[43m(\u001b[49m\u001b[43m[\u001b[49m\u001b[38;5;124;43m\"\u001b[39;49m\u001b[38;5;124;43m./brute_force_oneFile_v2.scr\u001b[39;49m\u001b[38;5;124;43m\"\u001b[39;49m\u001b[43m,\u001b[49m\u001b[43m \u001b[49m\u001b[43mfile_type\u001b[49m\u001b[43m,\u001b[49m\u001b[43m \u001b[49m\u001b[38;5;124;43m\"\u001b[39;49m\u001b[38;5;132;43;01m%s\u001b[39;49;00m\u001b[38;5;124;43m\"\u001b[39;49m\u001b[43m \u001b[49m\u001b[38;5;241;43m%\u001b[39;49m\u001b[43mtry_time\u001b[49m\u001b[43m,\u001b[49m\u001b[43m \u001b[49m\u001b[43mpathdir\u001b[49m\u001b[38;5;241;43m+\u001b[39;49m\u001b[43mfilename\u001b[49m\u001b[43m]\u001b[49m\u001b[43m)\u001b[49m\n\u001b[1;32m     26\u001b[0m     \u001b[38;5;66;03m#subprocess.call([\"./brute_force_oneFile_mdl_v3.scr\", file_type, \"%s\" %try_time, pathdir+filename, \"10\", \"0\"])\u001b[39;00m\n\u001b[1;32m     27\u001b[0m \u001b[38;5;28;01mif\u001b[39;00m sep_type\u001b[38;5;241m==\u001b[39m\u001b[38;5;124m\"\u001b[39m\u001b[38;5;124m+\u001b[39m\u001b[38;5;124m\"\u001b[39m:\n",
      "File \u001b[0;32m/usr/lib/python3.10/subprocess.py:345\u001b[0m, in \u001b[0;36mcall\u001b[0;34m(timeout, *popenargs, **kwargs)\u001b[0m\n\u001b[1;32m    337\u001b[0m \u001b[38;5;28;01mdef\u001b[39;00m \u001b[38;5;21mcall\u001b[39m(\u001b[38;5;241m*\u001b[39mpopenargs, timeout\u001b[38;5;241m=\u001b[39m\u001b[38;5;28;01mNone\u001b[39;00m, \u001b[38;5;241m*\u001b[39m\u001b[38;5;241m*\u001b[39mkwargs):\n\u001b[1;32m    338\u001b[0m     \u001b[38;5;124;03m\"\"\"Run command with arguments.  Wait for command to complete or\u001b[39;00m\n\u001b[1;32m    339\u001b[0m \u001b[38;5;124;03m    timeout, then return the returncode attribute.\u001b[39;00m\n\u001b[1;32m    340\u001b[0m \n\u001b[0;32m   (...)\u001b[0m\n\u001b[1;32m    343\u001b[0m \u001b[38;5;124;03m    retcode = call([\"ls\", \"-l\"])\u001b[39;00m\n\u001b[1;32m    344\u001b[0m \u001b[38;5;124;03m    \"\"\"\u001b[39;00m\n\u001b[0;32m--> 345\u001b[0m     \u001b[38;5;28;01mwith\u001b[39;00m \u001b[43mPopen\u001b[49m\u001b[43m(\u001b[49m\u001b[38;5;241;43m*\u001b[39;49m\u001b[43mpopenargs\u001b[49m\u001b[43m,\u001b[49m\u001b[43m \u001b[49m\u001b[38;5;241;43m*\u001b[39;49m\u001b[38;5;241;43m*\u001b[39;49m\u001b[43mkwargs\u001b[49m\u001b[43m)\u001b[49m \u001b[38;5;28;01mas\u001b[39;00m p:\n\u001b[1;32m    346\u001b[0m         \u001b[38;5;28;01mtry\u001b[39;00m:\n\u001b[1;32m    347\u001b[0m             \u001b[38;5;28;01mreturn\u001b[39;00m p\u001b[38;5;241m.\u001b[39mwait(timeout\u001b[38;5;241m=\u001b[39mtimeout)\n",
      "File \u001b[0;32m/usr/lib/python3.10/subprocess.py:966\u001b[0m, in \u001b[0;36mPopen.__init__\u001b[0;34m(self, args, bufsize, executable, stdin, stdout, stderr, preexec_fn, close_fds, shell, cwd, env, universal_newlines, startupinfo, creationflags, restore_signals, start_new_session, pass_fds, user, group, extra_groups, encoding, errors, text, umask, pipesize)\u001b[0m\n\u001b[1;32m    962\u001b[0m         \u001b[38;5;28;01mif\u001b[39;00m \u001b[38;5;28mself\u001b[39m\u001b[38;5;241m.\u001b[39mtext_mode:\n\u001b[1;32m    963\u001b[0m             \u001b[38;5;28mself\u001b[39m\u001b[38;5;241m.\u001b[39mstderr \u001b[38;5;241m=\u001b[39m io\u001b[38;5;241m.\u001b[39mTextIOWrapper(\u001b[38;5;28mself\u001b[39m\u001b[38;5;241m.\u001b[39mstderr,\n\u001b[1;32m    964\u001b[0m                     encoding\u001b[38;5;241m=\u001b[39mencoding, errors\u001b[38;5;241m=\u001b[39merrors)\n\u001b[0;32m--> 966\u001b[0m     \u001b[38;5;28;43mself\u001b[39;49m\u001b[38;5;241;43m.\u001b[39;49m\u001b[43m_execute_child\u001b[49m\u001b[43m(\u001b[49m\u001b[43margs\u001b[49m\u001b[43m,\u001b[49m\u001b[43m \u001b[49m\u001b[43mexecutable\u001b[49m\u001b[43m,\u001b[49m\u001b[43m \u001b[49m\u001b[43mpreexec_fn\u001b[49m\u001b[43m,\u001b[49m\u001b[43m \u001b[49m\u001b[43mclose_fds\u001b[49m\u001b[43m,\u001b[49m\n\u001b[1;32m    967\u001b[0m \u001b[43m                        \u001b[49m\u001b[43mpass_fds\u001b[49m\u001b[43m,\u001b[49m\u001b[43m \u001b[49m\u001b[43mcwd\u001b[49m\u001b[43m,\u001b[49m\u001b[43m \u001b[49m\u001b[43menv\u001b[49m\u001b[43m,\u001b[49m\n\u001b[1;32m    968\u001b[0m \u001b[43m                        \u001b[49m\u001b[43mstartupinfo\u001b[49m\u001b[43m,\u001b[49m\u001b[43m \u001b[49m\u001b[43mcreationflags\u001b[49m\u001b[43m,\u001b[49m\u001b[43m \u001b[49m\u001b[43mshell\u001b[49m\u001b[43m,\u001b[49m\n\u001b[1;32m    969\u001b[0m \u001b[43m                        \u001b[49m\u001b[43mp2cread\u001b[49m\u001b[43m,\u001b[49m\u001b[43m \u001b[49m\u001b[43mp2cwrite\u001b[49m\u001b[43m,\u001b[49m\n\u001b[1;32m    970\u001b[0m \u001b[43m                        \u001b[49m\u001b[43mc2pread\u001b[49m\u001b[43m,\u001b[49m\u001b[43m \u001b[49m\u001b[43mc2pwrite\u001b[49m\u001b[43m,\u001b[49m\n\u001b[1;32m    971\u001b[0m \u001b[43m                        \u001b[49m\u001b[43merrread\u001b[49m\u001b[43m,\u001b[49m\u001b[43m \u001b[49m\u001b[43merrwrite\u001b[49m\u001b[43m,\u001b[49m\n\u001b[1;32m    972\u001b[0m \u001b[43m                        \u001b[49m\u001b[43mrestore_signals\u001b[49m\u001b[43m,\u001b[49m\n\u001b[1;32m    973\u001b[0m \u001b[43m                        \u001b[49m\u001b[43mgid\u001b[49m\u001b[43m,\u001b[49m\u001b[43m \u001b[49m\u001b[43mgids\u001b[49m\u001b[43m,\u001b[49m\u001b[43m \u001b[49m\u001b[43muid\u001b[49m\u001b[43m,\u001b[49m\u001b[43m \u001b[49m\u001b[43mumask\u001b[49m\u001b[43m,\u001b[49m\n\u001b[1;32m    974\u001b[0m \u001b[43m                        \u001b[49m\u001b[43mstart_new_session\u001b[49m\u001b[43m)\u001b[49m\n\u001b[1;32m    975\u001b[0m \u001b[38;5;28;01mexcept\u001b[39;00m:\n\u001b[1;32m    976\u001b[0m     \u001b[38;5;66;03m# Cleanup if the child failed starting.\u001b[39;00m\n\u001b[1;32m    977\u001b[0m     \u001b[38;5;28;01mfor\u001b[39;00m f \u001b[38;5;129;01min\u001b[39;00m \u001b[38;5;28mfilter\u001b[39m(\u001b[38;5;28;01mNone\u001b[39;00m, (\u001b[38;5;28mself\u001b[39m\u001b[38;5;241m.\u001b[39mstdin, \u001b[38;5;28mself\u001b[39m\u001b[38;5;241m.\u001b[39mstdout, \u001b[38;5;28mself\u001b[39m\u001b[38;5;241m.\u001b[39mstderr)):\n",
      "File \u001b[0;32m/usr/lib/python3.10/subprocess.py:1842\u001b[0m, in \u001b[0;36mPopen._execute_child\u001b[0;34m(self, args, executable, preexec_fn, close_fds, pass_fds, cwd, env, startupinfo, creationflags, shell, p2cread, p2cwrite, c2pread, c2pwrite, errread, errwrite, restore_signals, gid, gids, uid, umask, start_new_session)\u001b[0m\n\u001b[1;32m   1840\u001b[0m     \u001b[38;5;28;01mif\u001b[39;00m errno_num \u001b[38;5;241m!=\u001b[39m \u001b[38;5;241m0\u001b[39m:\n\u001b[1;32m   1841\u001b[0m         err_msg \u001b[38;5;241m=\u001b[39m os\u001b[38;5;241m.\u001b[39mstrerror(errno_num)\n\u001b[0;32m-> 1842\u001b[0m     \u001b[38;5;28;01mraise\u001b[39;00m child_exception_type(errno_num, err_msg, err_filename)\n\u001b[1;32m   1843\u001b[0m \u001b[38;5;28;01mraise\u001b[39;00m child_exception_type(err_msg)\n",
      "\u001b[0;31mFileNotFoundError\u001b[0m: [Errno 2] No such file or directory: './brute_force_oneFile_v2.scr'"
     ]
    }
   ],
   "source": [
    "from S_brute_force import brute_force\n",
    "brute_force(\"/home/shastro/tech2022/CSE489/git/notebooks/AI-Feynman/Code\",\"/home/shastro/tech2022/CSE489/git/notebooks/AI-Feynman/example_data/example1.txt\",30,\"/home/shastro/tech2022/CSE489/git/notebooks/AI-Feynman/Code/14ops.txt\")"
   ]
  },
  {
   "cell_type": "markdown",
   "metadata": {
    "id": "qCyuBoLNtjaM"
   },
   "source": [
    "Look at the first line of the example 1 file"
   ]
  },
  {
   "cell_type": "code",
   "execution_count": null,
   "metadata": {
    "colab": {
     "base_uri": "https://localhost:8080/"
    },
    "id": "Ac-xU-H4tbud",
    "outputId": "eb841037-9009-442e-ebbb-72efebe468c2"
   },
   "outputs": [
    {
     "name": "stdout",
     "output_type": "stream",
     "text": [
      "1.6821347439986711 1.1786188905177983 4.749225735259924 1.3238356535004034 3.462199507094163 \n"
     ]
    }
   ],
   "source": [
    "!head -n 1 /content/AI-Feynman/example_data/example1.txt"
   ]
  },
  {
   "cell_type": "code",
   "execution_count": null,
   "metadata": {
    "colab": {
     "base_uri": "https://localhost:8080/"
    },
    "id": "cArs6MVap768",
    "outputId": "2d0eea6a-a0da-433b-e675-2da3d97cc7ce"
   },
   "outputs": [
    {
     "data": {
      "text/plain": [
       "3.4621995070941636"
      ]
     },
     "execution_count": 13,
     "metadata": {},
     "output_type": "execute_result"
    }
   ],
   "source": [
    "# Example 1 has data generated from an equation, where the last column is the regression target, and the rest of the columns are the input data\n",
    "# The following example shows the relationship between the first line of the file example1.txt and the formula used to make the data\n",
    "x=[1.6821347439986711,1.1786188905177983,4.749225735259924,1.3238356535004034,3.462199507094163]\n",
    "x0,x1,x2,x3=x[0],x[1],x[2],x[3]\n",
    "(x0**2 - 2*x0*x1 + x1**2 + x2**2 - 2*x2*x3 + x3**2)**0.5"
   ]
  },
  {
   "cell_type": "markdown",
   "metadata": {
    "id": "OmFXwbhMt_Ra"
   },
   "source": [
    "Run the code. It takes a long time, so go get some coffee."
   ]
  },
  {
   "cell_type": "code",
   "execution_count": null,
   "metadata": {
    "colab": {
     "base_uri": "https://localhost:8080/",
     "height": 355
    },
    "id": "I6GEtqkYYwfF",
    "outputId": "84850e2e-c1ce-4f6e-eabd-98d2b43729a8"
   },
   "outputs": [
    {
     "ename": "ModuleNotFoundError",
     "errorDetails": {
      "actions": [
       {
        "action": "open_url",
        "actionText": "Open Examples",
        "url": "/notebooks/snippets/importing_libraries.ipynb"
       }
      ]
     },
     "evalue": "ignored",
     "output_type": "error",
     "traceback": [
      "\u001b[0;31m---------------------------------------------------------------------------\u001b[0m",
      "\u001b[0;31mModuleNotFoundError\u001b[0m                       Traceback (most recent call last)",
      "\u001b[0;32m<ipython-input-15-f28b94691fde>\u001b[0m in \u001b[0;36m<module>\u001b[0;34m()\u001b[0m\n\u001b[0;32m----> 1\u001b[0;31m \u001b[0;32mfrom\u001b[0m \u001b[0mS_run_aif\u001b[0m \u001b[0;32mimport\u001b[0m \u001b[0mrun_aifeynman\u001b[0m\u001b[0;34m\u001b[0m\u001b[0;34m\u001b[0m\u001b[0m\n\u001b[0m\u001b[1;32m      2\u001b[0m \u001b[0;31m# Run example 1 as the regression dataset\u001b[0m\u001b[0;34m\u001b[0m\u001b[0;34m\u001b[0m\u001b[0;34m\u001b[0m\u001b[0m\n\u001b[1;32m      3\u001b[0m \u001b[0mrun_aifeynman\u001b[0m\u001b[0;34m(\u001b[0m\u001b[0;34m\"/content/AI-Feynman/example_data/\"\u001b[0m\u001b[0;34m,\u001b[0m\u001b[0;34m\"example1.txt\"\u001b[0m\u001b[0;34m,\u001b[0m\u001b[0;36m30\u001b[0m\u001b[0;34m,\u001b[0m\u001b[0;34m\"14ops.txt\"\u001b[0m\u001b[0;34m,\u001b[0m \u001b[0mpolyfit_deg\u001b[0m\u001b[0;34m=\u001b[0m\u001b[0;36m3\u001b[0m\u001b[0;34m,\u001b[0m \u001b[0mNN_epochs\u001b[0m\u001b[0;34m=\u001b[0m\u001b[0;36m400\u001b[0m\u001b[0;34m)\u001b[0m\u001b[0;34m\u001b[0m\u001b[0;34m\u001b[0m\u001b[0m\n",
      "\u001b[0;31mModuleNotFoundError\u001b[0m: No module named 'S_run_aif'",
      "",
      "\u001b[0;31m---------------------------------------------------------------------------\u001b[0;32m\nNOTE: If your import is failing due to a missing package, you can\nmanually install dependencies using either !pip or !apt.\n\nTo view examples of installing some common dependencies, click the\n\"Open Examples\" button below.\n\u001b[0;31m---------------------------------------------------------------------------\u001b[0m\n"
     ]
    }
   ],
   "source": [
    "from S_run_aif import run_aifeynman\n",
    "# Run example 1 as the regression dataset\n",
    "run_aifeynman(\"/content/AI-Feynman/example_data/\",\"example1.txt\",30,\"14ops.txt\", polyfit_deg=3, NN_epochs=400)"
   ]
  },
  {
   "cell_type": "markdown",
   "metadata": {
    "id": "qC1qzqP-uMmP"
   },
   "source": [
    "### Assess the results"
   ]
  },
  {
   "cell_type": "code",
   "execution_count": null,
   "metadata": {
    "colab": {
     "base_uri": "https://localhost:8080/"
    },
    "id": "6_t9u4eOZdYf",
    "outputId": "6b2a070d-4921-461b-f43e-7456821b3e14"
   },
   "outputs": [
    {
     "name": "stdout",
     "output_type": "stream",
     "text": [
      "      0.500000000000                      0               1             0.5000            25.5754            48.8289            48.8289\n",
      "      0.456786085514                    P~E              72             0.4568            31.6149            54.8684            54.8684\n",
      "      0.072364956838                    PRL              90             0.0724            29.2787            52.5322            52.5322\n",
      "      0.068651279201                   PPJ/             126             0.0687            29.6881            52.9416            52.9416\n",
      "      0.000000000000                   PPO/             130             0.0000             7.0224             7.0224             7.0224\n"
     ]
    }
   ],
   "source": [
    "!cat results.dat "
   ]
  },
  {
   "cell_type": "markdown",
   "metadata": {
    "id": "V75LJuObuXnx"
   },
   "source": [
    "We found a candidate with an excellent fit, let's see what we got"
   ]
  },
  {
   "cell_type": "code",
   "execution_count": null,
   "metadata": {
    "colab": {
     "base_uri": "https://localhost:8080/"
    },
    "id": "Irdi5kFSeY6a",
    "outputId": "3407fd27-463e-44aa-ee5a-177a326cc343"
   },
   "outputs": [
    {
     "name": "stdout",
     "output_type": "stream",
     "text": [
      "total 68\n",
      "drwxr-xr-x 2 root root 4096 Apr 30 01:25 mystery_world_acos\n",
      "drwxr-xr-x 2 root root 4096 Apr 30 01:25 mystery_world_asin\n",
      "drwxr-xr-x 2 root root 4096 Apr 30 01:25 mystery_world_atan\n",
      "drwxr-xr-x 2 root root 4096 Apr 30 01:26 mystery_world_cos\n",
      "drwxr-xr-x 2 root root 4096 Apr 30 01:27 mystery_world_exp\n",
      "drwxr-xr-x 2 root root 4096 Apr 30 01:28 mystery_world_inverse\n",
      "drwxr-xr-x 2 root root 4096 Apr 30 01:30 mystery_world_log\n",
      "drwxr-xr-x 2 root root 4096 Apr 30 01:31 mystery_world_sin\n",
      "drwxr-xr-x 2 root root 4096 Apr 30 01:32 mystery_world_sqrt\n",
      "drwxr-xr-x 2 root root 4096 Apr 30 01:33 mystery_world_squared\n",
      "drwxr-xr-x 2 root root 4096 Apr 30 01:34 mystery_world_tan\n",
      "drwxr-xr-x 3 root root 4096 Apr 29 23:52 NN_trained_models\n",
      "-rw-r--r-- 1 root root  160 Apr 30 01:36 solution_before_snap_example1.txt.txt\n",
      "-rw-r--r-- 1 root root  284 Apr 30 01:36 solution_example1.txt\n",
      "-rw-r--r-- 1 root root  160 Apr 30 01:36 solution_first_snap_example1.txt.txt\n",
      "drwxr-xr-x 2 root root 4096 Apr 30 01:11 translated_data_minus\n",
      "drwxr-xr-x 2 root root 4096 Apr 30 01:24 translated_data_multiply\n"
     ]
    }
   ],
   "source": [
    "!ls -l /content/AI-Feynman/Code/results/"
   ]
  },
  {
   "cell_type": "code",
   "execution_count": null,
   "metadata": {
    "colab": {
     "base_uri": "https://localhost:8080/"
    },
    "id": "i4Hb-1mfZ40K",
    "outputId": "67426462-8ddb-4e43-ee4d-0acfdaed1ce3"
   },
   "outputs": [
    {
     "name": "stdout",
     "output_type": "stream",
     "text": [
      "total 792\n",
      "-rw-r--r-- 1 root root 133195 Apr 29 23:55 example1.txt_train.h5\n",
      "-rw-r--r-- 1 root root 132683 Apr 30 01:11 example1.txt_train-translated_minus.h5\n",
      "-rw-r--r-- 1 root root 132683 Apr 30 00:55 example1.txt_train-translated_minus_pretrained.h5\n",
      "-rw-r--r-- 1 root root 132171 Apr 30 01:23 example1.txt_train-translated_minus-translated_minus.h5\n",
      "-rw-r--r-- 1 root root 132171 Apr 30 01:11 example1.txt_train-translated_minus-translated_minus_pretrained.h5\n",
      "-rw-r--r-- 1 root root 131659 Apr 30 01:24 example1.txt_train-translated_minus-translated_minus-translated_multiply_pretrained.h5\n"
     ]
    }
   ],
   "source": [
    "!ls -l /content/AI-Feynman/Code/results/NN_trained_models/models"
   ]
  },
  {
   "cell_type": "code",
   "execution_count": null,
   "metadata": {
    "colab": {
     "base_uri": "https://localhost:8080/"
    },
    "id": "T-_FGDrKZ-UK",
    "outputId": "0dc32a54-a64f-4200-91d0-5fd2940ed4f2"
   },
   "outputs": [
    {
     "name": "stdout",
     "output_type": "stream",
     "text": [
      "29.662221872473935 4.890530251072885 586863.6301287463 1.0 29.661717905473818 1\n",
      "29.662148308790247 4.820657494265831 578478.8993118997 4.0 28.259371881544887 exp(-23.140666108580+exp(pi))\n",
      "0.0 -inf -inf 16.779565475879124 0.0 0.000000000000+sqrt((((x2-x3)*(x2-x3))+((x0-x1)*(x0-x1))))\n"
     ]
    }
   ],
   "source": [
    "!cat /content/AI-Feynman/Code/results/solution_example1.txt"
   ]
  },
  {
   "cell_type": "markdown",
   "metadata": {
    "id": "wlPb6mmUuiVx"
   },
   "source": [
    "Note in the cell above that the solution with the lowest error is the formula this data was generated from"
   ]
  },
  {
   "cell_type": "markdown",
   "metadata": {
    "id": "jEW676sLuyby"
   },
   "source": [
    "### Try our own dataset generation and equation learning"
   ]
  },
  {
   "cell_type": "markdown",
   "metadata": {
    "id": "dPhMWSuKvV-d"
   },
   "source": [
    "The code below generates our regression example dataset\n",
    "\n",
    "We generate points for 4 columns, where x0 is from the same equation as x1, and x2 is from the same equation as x3\n",
    "The last column is Y"
   ]
  },
  {
   "cell_type": "code",
   "execution_count": null,
   "metadata": {
    "id": "5y4iD0fvbFEz"
   },
   "outputs": [],
   "source": [
    "import os\n",
    "import random\n",
    "\n",
    "os.chdir(\"/content/AI-Feynman/example_data\")\n",
    "\n",
    "def getY(x01,x23):\n",
    "  y = -0.5*x01+0.5*x23+3\n",
    "  return y\n",
    "\n",
    "def getRow():\n",
    "  [x0,x2]=[random.random() for x in range(2)]\n",
    "  x1=x0\n",
    "  x3=x2\n",
    "  y=getY(x1,x3)\n",
    "  return str(x0)+\" \"+str(x1)+\" \"+str(x2)+\" \"+str(x3)+\" \"+str(y)+\"\\n\"\n",
    "\n",
    "with open(\"duplicateVarsExample.txt\", \"w\") as f:\n",
    "  for _ in range(10000):\n",
    "    f.write(getRow())\n",
    "f.close()\n",
    "\n",
    "# switch back to the code directory\n",
    "os.chdir(\"/content/AI-Feynman/Code\")"
   ]
  },
  {
   "cell_type": "markdown",
   "metadata": {
    "id": "rffFg4OeEWzg"
   },
   "source": [
    "Let's look at our data"
   ]
  },
  {
   "cell_type": "code",
   "execution_count": null,
   "metadata": {
    "colab": {
     "base_uri": "https://localhost:8080/",
     "height": 357
    },
    "id": "EMHOxgMtmNCv",
    "outputId": "7e70c554-8dee-4976-a1b2-61d101830472"
   },
   "outputs": [
    {
     "name": "stdout",
     "output_type": "stream",
     "text": [
      "0.7495052892308969 0.7495052892308969 0.9594182437162296 0.9594182437162296 3.1049564772426663\n",
      "0.36622440212103946 0.36622440212103946 0.1511339510041746 0.1511339510041746 2.8924547744415676\n",
      "0.9940075877262533 0.9940075877262533 0.948080381649933 0.948080381649933 2.97703639696184\n",
      "0.15833377965332895 0.15833377965332895 0.6359208795892615 0.6359208795892615 3.238793549967966\n",
      "0.4614747052517377 0.4614747052517377 0.19959176451350058 0.19959176451350058 2.8690585296308813\n",
      "0.6087177963452982 0.6087177963452982 0.37893680035566024 0.37893680035566024 2.885109502005181\n",
      "0.06422319087211326 0.06422319087211326 0.236989406602108 0.236989406602108 3.0863831078649975\n",
      "0.7120151446988243 0.7120151446988243 0.8245541494277909 0.8245541494277909 3.0562695023644832\n",
      "0.855838372500714 0.855838372500714 0.5775941033010379 0.5775941033010379 2.860877865400162\n",
      "0.4973823547233599 0.4973823547233599 0.13300958934450435 0.13300958934450435 2.817813617310572\n",
      "0.01921955820385357 0.01921955820385357 0.4546980885116141 0.4546980885116141 3.21773926515388\n",
      "0.9940369859538511 0.9940369859538511 0.1472452671569231 0.1472452671569231 2.576604140601536\n",
      "0.15101951812400594 0.15101951812400594 0.637843900682653 0.637843900682653 3.2434121912793237\n",
      "0.7251526145484849 0.7251526145484849 0.946210745937104 0.946210745937104 3.1105290656943096\n",
      "0.13169154411809525 0.13169154411809525 0.14598324427143627 0.14598324427143627 3.0071458500766703\n",
      "0.862703746118631 0.862703746118631 0.9582967634279794 0.9582967634279794 3.0477965086546743\n",
      "0.7181863720349059 0.7181863720349059 0.8138811622234328 0.8138811622234328 3.0478473950942635\n",
      "0.35245277183500656 0.35245277183500656 0.3787901019960762 0.3787901019960762 3.013168665080535\n",
      "0.9954569355840945 0.9954569355840945 0.5306296079506272 0.5306296079506272 2.767586336183266\n",
      "0.40651136708492375 0.40651136708492375 0.7942448778496419 0.7942448778496419 3.193866755382359\n"
     ]
    }
   ],
   "source": [
    "!head -n 10 ../example_data/duplicateVarsExample.txt"
   ]
  },
  {
   "cell_type": "markdown",
   "metadata": {
    "id": "irYPRgZWxzp2"
   },
   "source": [
    "Let's also plot the data for x01 and x23 against Y"
   ]
  },
  {
   "cell_type": "code",
   "execution_count": null,
   "metadata": {
    "colab": {
     "base_uri": "https://localhost:8080/",
     "height": 552
    },
    "id": "0rhkKvDxnTTx",
    "outputId": "368e3f98-8f2a-4aff-e2fa-4cbb9a0643e7"
   },
   "outputs": [
    {
     "data": {
      "text/plain": [
       "<matplotlib.axes._subplots.AxesSubplot at 0x7f07167944a8>"
      ]
     },
     "execution_count": 8,
     "metadata": {
      "tags": []
     },
     "output_type": "execute_result"
    },
    {
     "data": {
      "image/png": "[encoded data removed]",
      "text/plain": [
       "<Figure size 432x288 with 1 Axes>"
      ]
     },
     "metadata": {
      "tags": []
     },
     "output_type": "display_data"
    },
    {
     "data": {
      "image/png": "[encoded data removed]",
      "text/plain": [
       "<Figure size 432x288 with 1 Axes>"
      ]
     },
     "metadata": {
      "tags": []
     },
     "output_type": "display_data"
    }
   ],
   "source": [
    "%matplotlib inline\n",
    "import matplotlib.pyplot as plt\n",
    "import pandas as pd\n",
    "plt.style.use('seaborn-whitegrid')\n",
    "import numpy as np\n",
    "\n",
    "df=pd.read_csv(\"../example_data/duplicateVarsExample.txt\",sep=\" \",header=None)\n",
    "df.plot.scatter(x=0, y=4)\n",
    "df.plot.scatter(x=2, y=4)"
   ]
  },
  {
   "cell_type": "markdown",
   "metadata": {
    "id": "DHwDA3S7yXHa"
   },
   "source": [
    "Now we run the experiment, and go get more coffee, because this is not going to be fast..."
   ]
  },
  {
   "cell_type": "code",
   "execution_count": null,
   "metadata": {
    "colab": {
     "base_uri": "https://localhost:8080/",
     "height": 1000
    },
    "id": "r__k40topc3Q",
    "outputId": "e5b76480-ca67-47d6-8437-de34f38fd6eb"
   },
   "outputs": [
    {
     "name": "stdout",
     "output_type": "stream",
     "text": [
      "Checking for brute force + \n",
      "\n",
      "Checking for brute force * \n",
      "\n",
      "Checking polyfit \n",
      "\n",
      "Complexity  RMSE  Expression\n",
      "[9.754887502163468, 26.83518071960566, '3 - 0.25*x1']\n",
      "[26.509775004326936, 26.553353510375235, '-0.25*x0 - 0.25*x1 + 0.25*x3 + 3']\n",
      "[29.0, 6.782994132837479e-08, '3.000000000000+log(sqrt(exp((x2-x0))))']\n",
      "[33.65148445440323, 4.815513076050948e-09, '-0.25*x0 - 0.25*x1 + 0.25*x2 + 0.25*x3 + 3.0']\n",
      "Checking for brute force + \n",
      "\n",
      "Checking for brute force * \n",
      "\n",
      "Checking polyfit \n",
      "\n",
      "Complexity  RMSE  Expression\n",
      "[9.754887502163468, 26.83518071960566, '3 - 0.25*x1']\n",
      "[23.838459164932694, 26.77511017635963, '-tan(0.02*x1 - 1.25)']\n",
      "[26.509775004326936, 26.553353510375235, '-0.25*x0 - 0.25*x1 + 0.25*x3 + 3']\n",
      "[29.0, 6.782994132837479e-08, '3.000000000000+log(sqrt(exp((x2-x0))))']\n",
      "[33.65148445440323, 4.815513076050948e-09, '-0.25*x0 - 0.25*x1 + 0.25*x2 + 0.25*x3 + 3.0']\n",
      "Checking for brute force + \n",
      "\n",
      "Checking for brute force * \n",
      "\n",
      "Checking polyfit \n",
      "\n",
      "Complexity  RMSE  Expression\n",
      "[2.0, 27.138283121949375, '3.14159265358979']\n",
      "[9.754887502163468, 26.83518071960566, '3 - 0.25*x1']\n",
      "[23.838459164932694, 26.77511017635963, '-tan(0.02*x1 - 1.25)']\n",
      "[26.509775004326936, 26.553353510375235, '-0.25*x0 - 0.25*x1 + 0.25*x3 + 3']\n",
      "[29.0, 6.782994132837479e-08, '3.000000000000+log(sqrt(exp((x2-x0))))']\n",
      "[33.65148445440323, 4.815513076050948e-09, '-0.25*x0 - 0.25*x1 + 0.25*x2 + 0.25*x3 + 3.0']\n",
      "Checking for brute force + \n",
      "\n",
      "Checking for brute force * \n",
      "\n",
      "Checking polyfit \n",
      "\n",
      "Complexity  RMSE  Expression\n",
      "[2.0, 27.138283121949375, '3.14159265358979']\n",
      "[9.754887502163468, 26.83518071960566, '3 - 0.25*x1']\n",
      "[23.838459164932694, 26.77511017635963, '-tan(0.02*x1 - 1.25)']\n",
      "[26.509775004326936, 26.553353510375235, '-0.25*x0 - 0.25*x1 + 0.25*x3 + 3']\n",
      "[29.0, 6.782994132837479e-08, '3.000000000000+log(sqrt(exp((x2-x0))))']\n",
      "[33.65148445440323, 4.815513076050948e-09, '-0.25*x0 - 0.25*x1 + 0.25*x2 + 0.25*x3 + 3.0']\n",
      "Checking for brute force + \n",
      "\n",
      "Checking for brute force * \n",
      "\n",
      "Checking polyfit \n",
      "\n",
      "Complexity  RMSE  Expression\n",
      "[0.0, 28.417039276692527, 8.91505505199440e-11]\n",
      "[2.0, 27.138283121949375, '3.14159265358979']\n",
      "[9.754887502163468, 26.83518071960566, '3 - 0.25*x1']\n",
      "[23.838459164932694, 26.77511017635963, '-tan(0.02*x1 - 1.25)']\n",
      "[26.509775004326936, 26.553353510375235, '-0.25*x0 - 0.25*x1 + 0.25*x3 + 3']\n",
      "[29.0, 6.782994132837479e-08, '3.000000000000+log(sqrt(exp((x2-x0))))']\n",
      "[33.65148445440323, 4.815513076050948e-09, '-0.25*x0 - 0.25*x1 + 0.25*x2 + 0.25*x3 + 3.0']\n",
      "Checking for brute force + \n",
      "\n",
      "Checking for brute force * \n",
      "\n",
      "Checking polyfit \n",
      "\n",
      "Complexity  RMSE  Expression\n",
      "[0.0, 28.417039276692527, 8.91505505199440e-11]\n",
      "[2.0, 27.138283121949375, '3.14159265358979']\n",
      "[9.754887502163468, 26.83518071960566, '3 - 0.25*x1']\n",
      "[16.22881869049588, 26.830078845937656, '3*exp(-0.08*x1)']\n",
      "[23.838459164932694, 26.77511017635963, '-tan(0.02*x1 - 1.25)']\n",
      "[26.219155057274243, 25.229836165482055, 1.09730947017670]\n",
      "[29.0, 6.782994132837479e-08, '3.000000000000+log(sqrt(exp((x2-x0))))']\n",
      "[33.65148445440323, 4.815513076050948e-09, '-0.25*x0 - 0.25*x1 + 0.25*x2 + 0.25*x3 + 3.0']\n",
      "Checking for brute force + \n",
      "\n",
      "Checking for brute force * \n",
      "\n",
      "Checking polyfit \n",
      "\n",
      "Complexity  RMSE  Expression\n",
      "[0.0, 28.417039276692527, 8.91505505199440e-11]\n",
      "[2.0, 27.138283121949375, '3.14159265358979']\n",
      "[9.754887502163468, 26.83518071960566, '3 - 0.25*x1']\n",
      "[16.22881869049588, 26.830078845937656, '3*exp(-0.08*x1)']\n",
      "[23.838459164932694, 26.77511017635963, '-tan(0.02*x1 - 1.25)']\n",
      "[26.219155057274243, 25.229836165482055, 1.09730947017670]\n",
      "[29.0, 6.782994132837479e-08, '3.000000000000+log(sqrt(exp((x2-x0))))']\n",
      "[33.65148445440323, 4.815513076050948e-09, '-0.25*x0 - 0.25*x1 + 0.25*x2 + 0.25*x3 + 3.0']\n",
      "Checking for brute force + \n",
      "\n",
      "Checking for brute force * \n",
      "\n",
      "Checking polyfit \n",
      "\n",
      "Complexity  RMSE  Expression\n",
      "[0.0, 28.417039276692527, 8.91505505199440e-11]\n",
      "[2.0, 27.138283121949375, '3.14159265358979']\n",
      "[9.643856189774725, 26.894496324233454, '3.06250000000000']\n",
      "[9.754887502163468, 26.83518071960566, '3 - 0.25*x1']\n",
      "[16.22881869049588, 26.830078845937656, '3*exp(-0.08*x1)']\n",
      "[23.838459164932694, 26.77511017635963, '-tan(0.02*x1 - 1.25)']\n",
      "[26.219155057274243, 25.229836165482055, 1.09730947017670]\n",
      "[29.0, 6.782994132837479e-08, '3.000000000000+log(sqrt(exp((x2-x0))))']\n",
      "[33.65148445440323, 4.815513076050948e-09, '-0.25*x0 - 0.25*x1 + 0.25*x2 + 0.25*x3 + 3.0']\n",
      "Checking for brute force + \n",
      "\n",
      "Checking for brute force * \n",
      "\n",
      "Checking polyfit \n",
      "\n",
      "Complexity  RMSE  Expression\n",
      "[0.0, 28.417039276692527, 8.91505505199440e-11]\n",
      "[2.0, 27.138283121949375, '3.14159265358979']\n",
      "[9.643856189774725, 26.894496324233454, '3.06250000000000']\n",
      "[9.754887502163468, 26.83518071960566, '3 - 0.25*x1']\n",
      "[16.22881869049588, 26.830078845937656, '3*exp(-0.08*x1)']\n",
      "[23.838459164932694, 26.77511017635963, '-tan(0.02*x1 - 1.25)']\n",
      "[26.219155057274243, 25.229836165482055, 1.09730947017670]\n",
      "[29.0, 6.782994132837479e-08, '3.000000000000+log(sqrt(exp((x2-x0))))']\n",
      "[33.65148445440323, 4.815513076050948e-09, '-0.25*x0 - 0.25*x1 + 0.25*x2 + 0.25*x3 + 3.0']\n",
      "Checking for brute force + \n",
      "\n",
      "Checking for brute force * \n",
      "\n",
      "Checking polyfit \n",
      "\n",
      "Complexity  RMSE  Expression\n",
      "[0.0, 28.417039276692527, 8.91505505199440e-11]\n",
      "[2.0, 27.138283121949375, '3.14159265358979']\n",
      "[9.643856189774725, 26.894496324233454, '3.06250000000000']\n",
      "[9.754887502163468, 26.83518071960566, '3 - 0.25*x1']\n",
      "[16.22881869049588, 26.830078845937656, '3*exp(-0.08*x1)']\n",
      "[23.838459164932694, 26.77511017635963, '-tan(0.02*x1 - 1.25)']\n",
      "[26.219155057274243, 25.229836165482055, 1.09730947017670]\n",
      "[29.0, 6.782994132837479e-08, '3.000000000000+log(sqrt(exp((x2-x0))))']\n",
      "[33.65148445440323, 4.815513076050948e-09, '-0.25*x0 - 0.25*x1 + 0.25*x2 + 0.25*x3 + 3.0']\n",
      "Checking for symmetry \n",
      " duplicateVarsExample.txt_train\n",
      "Training a NN on the data... \n",
      "\n",
      "tensor(0.0228, device='cuda:0', grad_fn=<DivBackward0>)\n",
      "tensor(0.0087, device='cuda:0', grad_fn=<DivBackward0>)\n",
      "tensor(0.0041, device='cuda:0', grad_fn=<DivBackward0>)\n",
      "tensor(0.0041, device='cuda:0', grad_fn=<DivBackward0>)\n",
      "NN loss:  tensor(0.0012, device='cuda:0', grad_fn=<DivBackward0>) \n",
      "\n",
      "Checking for brute force + \n",
      "\n",
      "Checking for brute force * \n",
      "\n",
      "Checking polyfit \n",
      "\n",
      "Complexity  RMSE  Expression\n",
      "[9.754887502163468, 26.6029764116531, '3 - 0.25*x1']\n",
      "[45.70719510483618, 26.584855237584392, '-0.143607378006+pi']\n",
      "[48.092419255114876, 26.581795892939198, 3.00096382200718]\n",
      "[52.34740673621611, 24.017867254543056, '2.122148928714+cos(x0)']\n",
      "[54.484022716525125, 23.89724983045669, '2.332928166737+((x0+1))**(-1)']\n",
      "[54.96223193703799, 20.112015335713952, '3.249800388066+(x0/((sin(pi)-1)-1))']\n",
      "[54.962231941924365, 20.111649131106088, '3.249800399073+(x0/(cos(pi)-1))']\n",
      "[66.71711944408783, 20.111649131106077, '3.249800399073+(-log(sqrt(exp(x0))))']\n",
      "[98.47012595749742, 19.87729857042389, 3.24912714958191 - 0.500415921211243*x0]\n",
      "[147.39189329909044, 19.873938527887, 3.25003361701965*cos(0.561233144407862*x0**0.501314043998718)]\n",
      "[147.3952154367532, 19.561901459595827, 3.2512903213501*cos(0.562426929706872*x0**0.501209437847137)]\n",
      "Checking for brute force + \n",
      "\n",
      "Checking for brute force * \n",
      "\n",
      "Checking polyfit \n",
      "\n",
      "Complexity  RMSE  Expression\n",
      "[9.754887502163468, 26.6029764116531, '3 - 0.25*x1']\n",
      "[45.70719510483618, 26.584855237584392, '-0.143607378006+pi']\n",
      "[46.82720973211028, 23.266430139156515, 1.24851781203602]\n",
      "[46.82729396259206, 23.265026274037258, 1.24859070777893]\n",
      "[54.96223193703799, 20.112015335713952, '3.249800388066+(x0/((sin(pi)-1)-1))']\n",
      "[54.962231941924365, 20.111649131106088, '3.249800399073+(x0/(cos(pi)-1))']\n",
      "[66.71711944408783, 20.111649131106077, '3.249800399073+(-log(sqrt(exp(x0))))']\n",
      "[98.47012595749742, 19.87729857042389, 3.24912714958191 - 0.500415921211243*x0]\n",
      "[101.15899522913264, 18.68396247194254, -tan(0.0202543362975121*x0 + 2.2361135910117)]\n",
      "Checking for brute force + \n",
      "\n",
      "Checking for brute force * \n",
      "\n",
      "Checking polyfit \n",
      "\n",
      "Complexity  RMSE  Expression\n",
      "[2.0, 26.794077558829578, '3.14159265358979']\n",
      "[9.754887502163468, 26.6029764116531, '3 - 0.25*x1']\n",
      "[18.253496664211536, 25.40135823914761, 'acos(0.04*x0*x1 - 1)']\n",
      "[46.82720973211028, 23.266430139156515, 1.24851781203602]\n",
      "[46.82729396259206, 23.265026274037258, 1.24859070777893]\n",
      "[54.96223193703799, 20.112015335713952, '3.249800388066+(x0/((sin(pi)-1)-1))']\n",
      "[54.962231941924365, 20.111649131106088, '3.249800399073+(x0/(cos(pi)-1))']\n",
      "[66.71711944408783, 20.111649131106077, '3.249800399073+(-log(sqrt(exp(x0))))']\n",
      "[98.47012595749742, 19.87729857042389, 3.24912714958191 - 0.500415921211243*x0]\n",
      "[101.15899522913264, 18.68396247194254, -tan(0.0202543362975121*x0 + 2.2361135910117)]\n",
      "Checking for brute force + \n",
      "\n",
      "Checking for brute force * \n",
      "\n",
      "Checking polyfit \n",
      "\n",
      "Complexity  RMSE  Expression\n",
      "[2.0, 26.794077558829578, '3.14159265358979']\n",
      "[9.754887502163468, 26.6029764116531, '3 - 0.25*x1']\n",
      "[18.253496664211536, 25.40135823914761, 'acos(0.04*x0*x1 - 1)']\n",
      "[46.82720973211028, 23.266430139156515, 1.24851781203602]\n",
      "[46.82729396259206, 23.265026274037258, 1.24859070777893]\n",
      "[54.96223193703799, 20.112015335713952, '3.249800388066+(x0/((sin(pi)-1)-1))']\n",
      "[54.962231941924365, 20.111649131106088, '3.249800399073+(x0/(cos(pi)-1))']\n",
      "[66.71711944408783, 20.111649131106077, '3.249800399073+(-log(sqrt(exp(x0))))']\n",
      "[98.47012595749742, 19.87729857042389, 3.24912714958191 - 0.500415921211243*x0]\n",
      "[101.15899522913264, 18.68396247194254, -tan(0.0202543362975121*x0 + 2.2361135910117)]\n",
      "Checking for brute force + \n",
      "\n",
      "Checking for brute force * \n",
      "\n",
      "Checking polyfit \n",
      "\n",
      "Complexity  RMSE  Expression\n",
      "[0.0, 28.416237436231288, 8.78136543780851e-24]\n",
      "[2.0, 26.794077558829578, '3.14159265358979']\n",
      "[9.754887502163468, 26.6029764116531, '3 - 0.25*x1']\n",
      "[11.702605602110248, 26.563326560061345, '3.03030303030303']\n",
      "[18.253496664211536, 25.40135823914761, 'acos(0.04*x0*x1 - 1)']\n",
      "[44.90613524755325, 23.37739471516998, 0.329680833010120]\n",
      "[46.82720973211028, 23.266430139156515, 1.24851781203602]\n",
      "[46.82729396259206, 23.265026274037258, 1.24859070777893]\n",
      "[54.96223193703799, 20.112015335713952, '3.249800388066+(x0/((sin(pi)-1)-1))']\n",
      "[54.962231941924365, 20.111649131106088, '3.249800399073+(x0/(cos(pi)-1))']\n",
      "[66.71711944408783, 20.111649131106077, '3.249800399073+(-log(sqrt(exp(x0))))']\n",
      "[98.47012595749742, 19.87729857042389, 3.24912714958191 - 0.500415921211243*x0]\n",
      "[101.15899522913264, 18.68396247194254, -tan(0.0202543362975121*x0 + 2.2361135910117)]\n",
      "Checking for brute force + \n",
      "\n",
      "Checking for brute force * \n",
      "\n",
      "Checking polyfit \n",
      "\n",
      "Complexity  RMSE  Expression\n",
      "[0.0, 28.416237436231288, 8.78136543780851e-24]\n",
      "[2.0, 26.794077558829578, '3.14159265358979']\n",
      "[9.754887502163468, 26.6029764116531, '3 - 0.25*x1']\n",
      "[11.702605602110248, 26.563326560061345, '3.03030303030303']\n",
      "[16.22881869049588, 26.25584316500214, '3*exp(-0.08*x1)']\n",
      "[18.253496664211536, 25.40135823914761, 'acos(0.04*x0*x1 - 1)']\n",
      "[44.90613524755325, 23.37739471516998, 0.329680833010120]\n",
      "[46.82720973211028, 23.266430139156515, 1.24851781203602]\n",
      "[46.82729396259206, 23.265026274037258, 1.24859070777893]\n",
      "[54.96223193703799, 20.112015335713952, '3.249800388066+(x0/((sin(pi)-1)-1))']\n",
      "[54.962231941924365, 20.111649131106088, '3.249800399073+(x0/(cos(pi)-1))']\n",
      "[66.71711944408783, 20.111649131106077, '3.249800399073+(-log(sqrt(exp(x0))))']\n",
      "[98.47012595749742, 19.87729857042389, 3.24912714958191 - 0.500415921211243*x0]\n",
      "[101.15899522913264, 18.68396247194254, -tan(0.0202543362975121*x0 + 2.2361135910117)]\n",
      "Checking for brute force + \n",
      "\n",
      "Checking for brute force * \n",
      "\n",
      "Checking polyfit \n",
      "\n",
      "Complexity  RMSE  Expression\n",
      "[0.0, 28.416237436231288, 8.78136543780851e-24]\n",
      "[2.0, 26.794077558829578, '3.14159265358979']\n",
      "[9.754887502163468, 26.6029764116531, '3 - 0.25*x1']\n",
      "[11.702605602110248, 26.563326560061345, '3.03030303030303']\n",
      "[16.22881869049588, 26.25584316500214, '3*exp(-0.08*x1)']\n",
      "[18.253496664211536, 25.40135823914761, 'acos(0.04*x0*x1 - 1)']\n",
      "[44.90613524755325, 23.37739471516998, 0.329680833010120]\n",
      "[46.82720973211028, 23.266430139156515, 1.24851781203602]\n",
      "[46.82729396259206, 23.265026274037258, 1.24859070777893]\n",
      "[54.96223193703799, 20.112015335713952, '3.249800388066+(x0/((sin(pi)-1)-1))']\n",
      "[54.962231941924365, 20.111649131106088, '3.249800399073+(x0/(cos(pi)-1))']\n",
      "[64.870940033653, 19.939852819755323, 'asin(-0.112982536547+(x0/sqrt((pi+sqrt(x0)))))']\n",
      "[68.95939708495165, 19.699789328882485, 'asin(-0.108888183132+sin((x0-(x0/sqrt((pi+1))))))']\n",
      "[101.15899522913264, 18.68396247194254, -tan(0.0202543362975121*x0 + 2.2361135910117)]\n",
      "Checking for brute force + \n",
      "\n",
      "Checking for brute force * \n",
      "\n",
      "Checking polyfit \n",
      "\n",
      "Complexity  RMSE  Expression\n",
      "[0.0, 28.416237436231288, 8.78136543780851e-24]\n",
      "[2.0, 26.794077558829578, '3.14159265358979']\n",
      "[9.643856189774725, 26.563965302247777, '3.06250000000000']\n",
      "[11.702605602110248, 26.563326560061345, '3.03030303030303']\n",
      "[16.22881869049588, 26.25584316500214, '3*exp(-0.08*x1)']\n",
      "[18.253496664211536, 25.40135823914761, 'acos(0.04*x0*x1 - 1)']\n",
      "[44.90613524755325, 23.37739471516998, 0.329680833010120]\n",
      "[46.82720973211028, 23.266430139156515, 1.24851781203602]\n",
      "[46.82729396259206, 23.265026274037258, 1.24859070777893]\n",
      "[54.96223193703799, 20.112015335713952, '3.249800388066+(x0/((sin(pi)-1)-1))']\n",
      "[54.962231941924365, 20.111649131106088, '3.249800399073+(x0/(cos(pi)-1))']\n",
      "[64.870940033653, 19.939852819755323, 'asin(-0.112982536547+(x0/sqrt((pi+sqrt(x0)))))']\n",
      "[68.95939708495165, 19.699789328882485, 'asin(-0.108888183132+sin((x0-(x0/sqrt((pi+1))))))']\n",
      "[101.15899522913264, 18.68396247194254, -tan(0.0202543362975121*x0 + 2.2361135910117)]\n",
      "[196.5384644727342, 18.41388322031136, 11.1216087341309*cos(0.0179537285227802*x0 + 1.14964008331299)**2.03347539901733]\n",
      "Checking for brute force + \n",
      "\n",
      "Checking for brute force * \n",
      "\n",
      "Checking polyfit \n",
      "\n",
      "Complexity  RMSE  Expression\n",
      "[0.0, 28.416237436231288, 8.78136543780851e-24]\n",
      "[2.0, 26.794077558829578, '3.14159265358979']\n",
      "[9.643856189774725, 26.563965302247777, '3.06250000000000']\n",
      "[11.702605602110248, 26.563326560061345, '3.03030303030303']\n",
      "[16.22881869049588, 26.25584316500214, '3*exp(-0.08*x1)']\n",
      "[18.253496664211536, 25.40135823914761, 'acos(0.04*x0*x1 - 1)']\n",
      "[44.90613524755325, 23.37739471516998, 0.329680833010120]\n",
      "[46.82720973211028, 23.266430139156515, 1.24851781203602]\n",
      "[46.82729396259206, 23.265026274037258, 1.24859070777893]\n",
      "[54.96223193703799, 20.112015335713952, '3.249800388066+(x0/((sin(pi)-1)-1))']\n",
      "[54.962231941924365, 20.111649131106088, '3.249800399073+(x0/(cos(pi)-1))']\n",
      "[64.870940033653, 19.939852819755323, 'asin(-0.112982536547+(x0/sqrt((pi+sqrt(x0)))))']\n",
      "[68.95939708495165, 19.699789328882485, 'asin(-0.108888183132+sin((x0-(x0/sqrt((pi+1))))))']\n",
      "[101.15899522913264, 18.68396247194254, -tan(0.0202543362975121*x0 + 2.2361135910117)]\n",
      "[196.5384644727342, 18.41388322031136, 11.1216087341309*cos(0.0179537285227802*x0 + 1.14964008331299)**2.03347539901733]\n",
      "Checking for brute force + \n",
      "\n",
      "Checking for brute force * \n",
      "\n",
      "Checking polyfit \n",
      "\n",
      "Complexity  RMSE  Expression\n",
      "[0.0, 28.416237436231288, 8.78136543780851e-24]\n",
      "[2.0, 26.794077558829578, '3.14159265358979']\n",
      "[9.643856189774725, 26.563965302247777, '3.06250000000000']\n",
      "[11.702605602110248, 26.563326560061345, '3.03030303030303']\n",
      "[16.22881869049588, 26.25584316500214, '3*exp(-0.08*x1)']\n",
      "[18.253496664211536, 25.40135823914761, 'acos(0.04*x0*x1 - 1)']\n",
      "[44.90613524755325, 23.37739471516998, 0.329680833010120]\n",
      "[46.82720973211028, 23.266430139156515, 1.24851781203602]\n",
      "[46.82729396259206, 23.265026274037258, 1.24859070777893]\n",
      "[54.96223193703799, 20.112015335713952, '3.249800388066+(x0/((sin(pi)-1)-1))']\n",
      "[54.962231941924365, 20.111649131106088, '3.249800399073+(x0/(cos(pi)-1))']\n",
      "[64.870940033653, 19.939852819755323, 'asin(-0.112982536547+(x0/sqrt((pi+sqrt(x0)))))']\n",
      "[68.95939708495165, 19.699789328882485, 'asin(-0.108888183132+sin((x0-(x0/sqrt((pi+1))))))']\n",
      "[101.15899522913264, 18.68396247194254, -tan(0.0202543362975121*x0 + 2.2361135910117)]\n",
      "[196.5384644727342, 18.41388322031136, 11.1216087341309*cos(0.0179537285227802*x0 + 1.14964008331299)**2.03347539901733]\n",
      "Checking for symmetry \n",
      " duplicateVarsExample.txt_train-add_a\n",
      "Training a NN on the data... \n",
      "\n",
      "tensor(0.0205, device='cuda:0', grad_fn=<DivBackward0>)\n",
      "tensor(0.0135, device='cuda:0', grad_fn=<DivBackward0>)\n",
      "tensor(0.0032, device='cuda:0', grad_fn=<DivBackward0>)\n",
      "tensor(0.0065, device='cuda:0', grad_fn=<DivBackward0>)\n",
      "NN loss:  tensor(0.0016, device='cuda:0', grad_fn=<DivBackward0>) \n",
      "\n",
      "Checking for brute force + \n",
      "\n",
      "Checking for brute force * \n",
      "\n",
      "Checking polyfit \n",
      "\n",
      "Complexity  RMSE  Expression\n",
      "[2.0, 26.583909643771797, '3.0']\n",
      "[48.092419255114876, 26.581795892939198, 3.00096382200718]\n",
      "Checking for brute force + \n",
      "\n",
      "Checking for brute force * \n",
      "\n",
      "Checking polyfit \n",
      "\n",
      "Complexity  RMSE  Expression\n",
      "[0.0, 31.58376256824961, '0']\n",
      "[2.0, 26.583909643771797, '3.0']\n",
      "[46.82720973211028, 23.266430139156515, 1.24851781203602]\n",
      "[46.82729396259206, 23.265026274037258, 1.24859070777893]\n",
      "Checking for brute force + \n",
      "\n",
      "Checking for brute force * \n",
      "\n",
      "Checking polyfit \n",
      "\n",
      "Complexity  RMSE  Expression\n",
      "[0.0, 31.58376256824961, '0']\n",
      "[2.0, 26.583909643771797, '3.0']\n",
      "[35.54594861688042, 26.583434944039706, 'acos(-0.24*x0**3 - 0.25*x0**2 - 0.25*x0 - 0.25)']\n",
      "[46.82720973211028, 23.266430139156515, 1.24851781203602]\n",
      "[46.82729396259206, 23.265026274037258, 1.24859070777893]\n",
      "Checking for brute force + \n",
      "\n",
      "Checking for brute force * \n",
      "\n",
      "Checking polyfit \n",
      "\n",
      "Complexity  RMSE  Expression\n",
      "[0.0, 31.58376256824961, '0']\n",
      "[2.0, 26.583909643771797, '3.0']\n",
      "[24.09764124527088, 26.582982205310127, 'log(10.16*x0 + 10)']\n",
      "[46.82720973211028, 23.266430139156515, 1.24851781203602]\n",
      "[46.82729396259206, 23.265026274037258, 1.24859070777893]\n",
      "Checking for brute force + \n",
      "\n",
      "Checking for brute force * \n",
      "\n",
      "Checking polyfit \n",
      "\n",
      "Complexity  RMSE  Expression\n",
      "[0.0, 28.41623743584531, 8.91505505199440e-11]\n",
      "[2.0, 26.583909643771797, '3.0']\n",
      "[16.169925001442312, 26.583909643771662, '1/(0.166666666666667*x0 + 0.166666666666667)']\n",
      "[24.09764124527088, 26.582982205310127, 'log(10.16*x0 + 10)']\n",
      "[44.92483876283626, 23.41803159120562, 0.333982735872269]\n",
      "[46.82720973211028, 23.266430139156515, 1.24851781203602]\n",
      "[46.82729396259206, 23.265026274037258, 1.24859070777893]\n",
      "Checking for brute force + \n",
      "\n",
      "Checking for brute force * \n",
      "\n",
      "Checking polyfit \n",
      "\n",
      "Complexity  RMSE  Expression\n",
      "[0.0, 28.41623743584531, 8.91505505199440e-11]\n",
      "[2.0, 26.583909643771797, '3.0']\n",
      "[16.169925001442312, 26.583909643771662, '1/(0.166666666666667*x0 + 0.166666666666667)']\n",
      "[24.09764124527088, 26.582982205310127, 'log(10.16*x0 + 10)']\n",
      "[44.92483876283626, 23.41803159120562, 0.333982735872269]\n",
      "[46.82720973211028, 23.266430139156515, 1.24851781203602]\n",
      "[46.82729396259206, 23.265026274037258, 1.24859070777893]\n",
      "Checking for brute force + \n",
      "\n",
      "Checking for brute force * \n",
      "\n",
      "Checking polyfit \n",
      "\n",
      "Complexity  RMSE  Expression\n",
      "[0.0, 28.41623743584531, 8.91505505199440e-11]\n",
      "[2.0, 26.583909643771797, '3.0']\n",
      "[16.169925001442312, 26.583909643771662, '1/(0.166666666666667*x0 + 0.166666666666667)']\n",
      "[24.042599881712917, 26.563735352972685, 'asin(0.07*x0 + 0.07)']\n",
      "[43.657140632453086, 26.56141472429615, 0.138710346079688]\n",
      "[44.92483876283626, 23.41803159120562, 0.333982735872269]\n",
      "[46.82720973211028, 23.266430139156515, 1.24851781203602]\n",
      "[46.82729396259206, 23.265026274037258, 1.24859070777893]\n",
      "Checking for brute force + \n",
      "\n",
      "Checking for brute force * \n",
      "\n",
      "Checking polyfit \n",
      "\n",
      "Complexity  RMSE  Expression\n",
      "[0.0, 28.41623743584531, 8.91505505199440e-11]\n",
      "[2.0, 26.583909643771797, '3.0']\n",
      "[16.169925001442312, 26.583909643771662, '1/(0.166666666666667*x0 + 0.166666666666667)']\n",
      "[24.042599881712917, 26.563735352972685, 'asin(0.07*x0 + 0.07)']\n",
      "[43.657140632453086, 26.56141472429615, 0.138710346079688]\n",
      "[44.92483876283626, 23.41803159120562, 0.333982735872269]\n",
      "[46.82720973211028, 23.266430139156515, 1.24851781203602]\n",
      "[46.82729396259206, 23.265026274037258, 1.24859070777893]\n",
      "Checking for brute force + \n",
      "\n",
      "Checking for brute force * \n",
      "\n",
      "Checking polyfit \n",
      "\n",
      "Complexity  RMSE  Expression\n",
      "[0.0, 28.41623743584531, 8.91505505199440e-11]\n",
      "[2.0, 26.583909643771797, '3.0']\n",
      "[16.169925001442312, 26.583909643771662, '1/(0.166666666666667*x0 + 0.166666666666667)']\n",
      "[24.042599881712917, 26.563735352972685, 'asin(0.07*x0 + 0.07)']\n",
      "[43.657140632453086, 26.56141472429615, 0.138710346079688]\n",
      "[44.92483876283626, 23.41803159120562, 0.333982735872269]\n",
      "[46.82720973211028, 23.266430139156515, 1.24851781203602]\n",
      "[46.82729396259206, 23.265026274037258, 1.24859070777893]\n",
      "Checking for brute force + \n",
      "\n",
      "Checking for brute force * \n",
      "\n",
      "Checking polyfit \n",
      "\n",
      "Complexity  RMSE  Expression\n",
      "[0.0, 28.41623743584531, 8.91505505199440e-11]\n",
      "[2.0, 26.583909643771797, '3.0']\n",
      "[16.169925001442312, 26.583909643771662, '1/(0.166666666666667*x0 + 0.166666666666667)']\n",
      "[24.042599881712917, 26.563735352972685, 'asin(0.07*x0 + 0.07)']\n",
      "[43.657140632453086, 26.56141472429615, 0.138710346079688]\n",
      "[44.92483876283626, 23.41803159120562, 0.333982735872269]\n",
      "[46.82720973211028, 23.266430139156515, 1.24851781203602]\n",
      "[46.82729396259206, 23.265026274037258, 1.24859070777893]\n",
      "Checking for symmetry \n",
      " duplicateVarsExample.txt_train-add_a-translated_divide\n",
      "Just one variable!\n",
      "duplicateVarsExample.txt_train-add_a-translated_divide just one variable for ADD \n",
      "\n",
      "duplicateVarsExample.txt_train-add_a-translated_divide just one variable for ADD \n",
      "\n",
      "duplicateVarsExample.txt_train-add_a-translated_divide just one variable for ADD \n",
      "\n",
      "duplicateVarsExample.txt_train-add_a-translated_divide just one variable for ADD \n",
      "\n",
      "duplicateVarsExample.txt_train-add_a-translated_divide just one variable for ADD\n",
      "duplicateVarsExample.txt_train-add_a-translated_divide just one variable for ADD\n",
      "Checking for brute force + \n",
      "\n",
      "Checking for brute force * \n",
      "\n",
      "Checking polyfit \n",
      "\n",
      "Complexity  RMSE  Expression\n",
      "[0.0, 26.581719830200157, '0']\n",
      "[5.0, 26.480792114834987, '0.25*x1']\n",
      "[45.57400827906113, 26.232472932779213, 0.13094337284565*x0]\n",
      "[46.1922663052752, 26.183726531427844, '0.201000776075*x0']\n",
      "[50.13916065731395, 26.14879996440934, sin(x0) - 0.45922714471817]\n",
      "[50.199459808339654, 26.063916167282198, '-0.478827852204+sin(x0)']\n",
      "[50.79440267353281, 25.36247398417604, '0.241075900509*(x0*x0)']\n",
      "[51.60841856333081, 25.141023221310896, '-0.158938190828+(x0/pi)']\n",
      "[53.16123057890947, 22.641614342355926, '-0.233153137389+(x0/(pi-1))']\n",
      "[61.08957485787528, 21.297644067815952, '-0.245354741165+(x0/sqrt((pi+1)))']\n",
      "[62.01480223511638, 20.394306597503906, '-0.249659533288+log(sqrt(exp(x0)))']\n",
      "[94.78103363457441, 20.379333948330952, '0.251055761283*(x0+(x0-1))']\n",
      "Checking for brute force + \n",
      "\n",
      "Checking for brute force * \n",
      "\n",
      "Checking polyfit \n",
      "\n",
      "Complexity  RMSE  Expression\n",
      "[0.0, 26.581719830200157, '0']\n",
      "[5.0, 26.480792114834987, '0.25*x1']\n",
      "[24.947636937951827, 26.47457945580953, 'cos(0.25*x1 - 1.57)']\n",
      "[45.57400827906113, 26.232472932779213, 0.13094337284565*x0]\n",
      "[46.1922663052752, 26.183726531427844, '0.201000776075*x0']\n",
      "[50.13916065731395, 26.14879996440934, sin(x0) - 0.45922714471817]\n",
      "[50.199459808339654, 26.063916167282198, '-0.478827852204+sin(x0)']\n",
      "[50.79440267353281, 25.36247398417604, '0.241075900509*(x0*x0)']\n",
      "[51.60841856333081, 25.141023221310896, '-0.158938190828+(x0/pi)']\n",
      "[53.16123057890947, 22.641614342355926, '-0.233153137389+(x0/(pi-1))']\n",
      "[61.08957485787528, 21.297644067815952, '-0.245354741165+(x0/sqrt((pi+1)))']\n",
      "[62.01480223511638, 20.394306597503906, '-0.249659533288+log(sqrt(exp(x0)))']\n",
      "[94.78103363457441, 20.379333948330952, '0.251055761283*(x0+(x0-1))']\n",
      "Checking for brute force + \n",
      "\n",
      "Checking for brute force * \n",
      "\n",
      "Checking polyfit \n",
      "\n",
      "Complexity  RMSE  Expression\n",
      "[0.0, 26.581719830200157, '0']\n",
      "[5.0, 26.480792114834987, '0.25*x1']\n",
      "[7.754887502163468, 26.45920642671404, 'sin(0.25*x1)']\n",
      "[45.57400827906113, 26.232472932779213, 0.13094337284565*x0]\n",
      "[46.1922663052752, 26.183726531427844, '0.201000776075*x0']\n",
      "[50.13916065731395, 26.14879996440934, sin(x0) - 0.45922714471817]\n",
      "[50.14323251115422, 26.09877151402138, sin(sin(x0) - 0.460525095462799)]\n",
      "[50.199459808339654, 26.01779900908498, 'sin(-0.478827852204+sin(x0))']\n",
      "[50.79440267353281, 25.36247398417604, '0.241075900509*(x0*x0)']\n",
      "[51.60841856333081, 25.141023221310896, '-0.158938190828+(x0/pi)']\n",
      "[53.16123057890947, 22.641614342355926, '-0.233153137389+(x0/(pi-1))']\n",
      "[61.08957485787528, 21.297644067815952, '-0.245354741165+(x0/sqrt((pi+1)))']\n",
      "[61.13886035740587, 21.111311580647726, 'sin(-0.507762781030+log((pi+(sin((x0-1))-1))))']\n",
      "[62.01480223511638, 20.394306597503906, '-0.249659533288+log(sqrt(exp(x0)))']\n",
      "[94.78103363457441, 20.379333948330952, '0.251055761283*(x0+(x0-1))']\n",
      "Checking for brute force + \n",
      "\n",
      "Checking for brute force * \n",
      "\n",
      "Checking polyfit \n",
      "\n",
      "Complexity  RMSE  Expression\n",
      "[0.0, 26.581719830200157, '0']\n",
      "[5.0, 26.480792114834987, '0.25*x1']\n",
      "[7.754887502163468, 26.45920642671404, 'sin(0.25*x1)']\n",
      "[45.57400827906113, 26.232472932779213, 0.13094337284565*x0]\n",
      "[46.1922663052752, 26.183726531427844, '0.201000776075*x0']\n",
      "[48.933809102852244, 26.145656522852015, 'tan(0.199150122504*x0)']\n",
      "[50.14323251115422, 26.09877151402138, sin(sin(x0) - 0.460525095462799)]\n",
      "[50.199459808339654, 26.01779900908498, 'sin(-0.478827852204+sin(x0))']\n",
      "[50.79440267353281, 25.36247398417604, '0.241075900509*(x0*x0)']\n",
      "[51.60841856333081, 25.141023221310896, '-0.158938190828+(x0/pi)']\n",
      "[53.16123057890947, 22.641614342355926, '-0.233153137389+(x0/(pi-1))']\n",
      "[56.406343076746, 22.265322751677147, 'tan(-0.233153137389+(x0/(pi-1)))']\n",
      "[58.36474132978604, 22.115910518469146, 'tan(-0.593824090276+exp((sin(x0)-1)))']\n",
      "[61.08957485787528, 21.297644067815952, '-0.245354741165+(x0/sqrt((pi+1)))']\n",
      "[61.13886035740587, 21.111311580647726, 'sin(-0.507762781030+log((pi+(sin((x0-1))-1))))']\n",
      "[62.01480223511638, 20.394306597503906, '-0.249659533288+log(sqrt(exp(x0)))']\n",
      "[94.78103363457441, 20.379333948330952, '0.251055761283*(x0+(x0-1))']\n",
      "[97.97291109592155, 20.13469924033376, tan(0.493335962295532*x0 - 0.246264755725861)]\n",
      "Checking for brute force + \n",
      "\n",
      "Checking for brute force * \n",
      "\n",
      "Checking polyfit \n",
      "\n",
      "Complexity  RMSE  Expression\n",
      "[0.0, 26.581719830200157, '0']\n",
      "[5.0, 26.480792114834987, '0.25*x1']\n",
      "[7.754887502163468, 26.45920642671404, 'sin(0.25*x1)']\n",
      "[45.57400827906113, 26.232472932779213, 0.13094337284565*x0]\n",
      "[46.1922663052752, 26.183726531427844, '0.201000776075*x0']\n",
      "[46.491507923171774, 22.681095045152126, 0.989323735237122]\n",
      "[46.49154990398006, 22.67973212147986, 0.989352523867542]\n",
      "[53.16123057890947, 22.641614342355926, '-0.233153137389+(x0/(pi-1))']\n",
      "[56.406343076746, 22.265322751677147, 'tan(-0.233153137389+(x0/(pi-1)))']\n",
      "[58.36474132978604, 22.115910518469146, 'tan(-0.593824090276+exp((sin(x0)-1)))']\n",
      "[61.08957485787528, 21.297644067815952, '-0.245354741165+(x0/sqrt((pi+1)))']\n",
      "[61.13886035740587, 21.111311580647726, 'sin(-0.507762781030+log((pi+(sin((x0-1))-1))))']\n",
      "[62.01480223511638, 20.394306597503906, '-0.249659533288+log(sqrt(exp(x0)))']\n",
      "[94.78103363457441, 20.379333948330952, '0.251055761283*(x0+(x0-1))']\n",
      "[97.97291109592155, 20.13469924033376, tan(0.493335962295532*x0 - 0.246264755725861)]\n",
      "Checking for brute force + \n",
      "\n",
      "Checking for brute force * \n",
      "\n",
      "Checking polyfit \n",
      "\n",
      "Complexity  RMSE  Expression\n",
      "[0.0, 26.581719830200157, '0']\n",
      "[5.0, 26.480792114834987, '0.25*x1']\n",
      "[7.754887502163468, 26.45920642671404, 'sin(0.25*x1)']\n",
      "[12.0, 26.326982224461158, 'log(0.25*x1 + 1)']\n",
      "[45.57400827906113, 26.232472932779213, 0.13094337284565*x0]\n",
      "[46.1922663052752, 26.183726531427844, '0.201000776075*x0']\n",
      "[46.491507923171774, 22.681095045152126, 0.989323735237122]\n",
      "[46.49154990398006, 22.67973212147986, 0.989352523867542]\n",
      "[53.16123057890947, 22.641614342355926, '-0.233153137389+(x0/(pi-1))']\n",
      "[56.406343076746, 22.265322751677147, 'tan(-0.233153137389+(x0/(pi-1)))']\n",
      "[58.36474132978604, 22.115910518469146, 'tan(-0.593824090276+exp((sin(x0)-1)))']\n",
      "[61.08957485787528, 21.297644067815952, '-0.245354741165+(x0/sqrt((pi+1)))']\n",
      "[61.13886035740587, 21.111311580647726, 'sin(-0.507762781030+log((pi+(sin((x0-1))-1))))']\n",
      "[62.01480223511638, 20.394306597503906, '-0.249659533288+log(sqrt(exp(x0)))']\n",
      "[94.78103363457441, 20.379333948330952, '0.251055761283*(x0+(x0-1))']\n",
      "[97.97291109592155, 20.13469924033376, tan(0.493335962295532*x0 - 0.246264755725861)]\n",
      "Checking for brute force + \n",
      "\n",
      "Checking for brute force * \n",
      "\n",
      "Checking polyfit \n",
      "\n",
      "Complexity  RMSE  Expression\n",
      "[0.0, 26.581719830200157, '0']\n",
      "[5.0, 26.480792114834987, '0.25*x1']\n",
      "[7.754887502163468, 26.45920642671404, 'sin(0.25*x1)']\n",
      "[12.0, 26.326982224461158, 'log(0.25*x1 + 1)']\n",
      "[45.57400827906113, 26.232472932779213, 0.13094337284565*x0]\n",
      "[46.1922663052752, 26.183726531427844, '0.201000776075*x0']\n",
      "[46.491507923171774, 22.681095045152126, 0.989323735237122]\n",
      "[46.49154990398006, 22.67973212147986, 0.989352523867542]\n",
      "[53.16123057890947, 22.641614342355926, '-0.233153137389+(x0/(pi-1))']\n",
      "[56.406343076746, 22.265322751677147, 'tan(-0.233153137389+(x0/(pi-1)))']\n",
      "[58.36474132978604, 22.115910518469146, 'tan(-0.593824090276+exp((sin(x0)-1)))']\n",
      "[61.08957485787528, 21.297644067815952, '-0.245354741165+(x0/sqrt((pi+1)))']\n",
      "[61.13886035740587, 21.111311580647726, 'sin(-0.507762781030+log((pi+(sin((x0-1))-1))))']\n",
      "[62.01480223511638, 20.394306597503906, '-0.249659533288+log(sqrt(exp(x0)))']\n",
      "[94.78103363457441, 20.379333948330952, '0.251055761283*(x0+(x0-1))']\n",
      "[97.97291109592155, 20.13469924033376, tan(0.493335962295532*x0 - 0.246264755725861)]\n",
      "Checking for brute force + \n",
      "\n",
      "Checking for brute force * \n",
      "\n",
      "Checking polyfit \n",
      "\n",
      "Complexity  RMSE  Expression\n",
      "[0.0, 26.581719830200157, '0']\n",
      "[5.0, 26.480792114834987, '0.25*x1']\n",
      "[7.754887502163468, 26.45920642671404, 'sin(0.25*x1)']\n",
      "[12.0, 26.326982224461158, 'log(0.25*x1 + 1)']\n",
      "[45.57400827906113, 26.232472932779213, 0.13094337284565*x0]\n",
      "[46.1922663052752, 26.183726531427844, '0.201000776075*x0']\n",
      "[46.491507923171774, 22.681095045152126, 0.989323735237122]\n",
      "[46.49154990398006, 22.67973212147986, 0.989352523867542]\n",
      "[53.16123057890947, 22.641614342355926, '-0.233153137389+(x0/(pi-1))']\n",
      "[56.406343076746, 22.265322751677147, 'tan(-0.233153137389+(x0/(pi-1)))']\n",
      "[58.36474132978604, 22.115910518469146, 'tan(-0.593824090276+exp((sin(x0)-1)))']\n",
      "[61.08957485787528, 21.297644067815952, '-0.245354741165+(x0/sqrt((pi+1)))']\n",
      "[61.13886035740587, 21.111311580647726, 'sin(-0.507762781030+log((pi+(sin((x0-1))-1))))']\n",
      "[62.01480223511638, 20.394306597503906, '-0.249659533288+log(sqrt(exp(x0)))']\n",
      "[94.78103363457441, 20.379333948330952, '0.251055761283*(x0+(x0-1))']\n",
      "[97.97291109592155, 20.13469924033376, tan(0.493335962295532*x0 - 0.246264755725861)]\n",
      "[97.9972836018656, 19.797609740940814, asin(0.497601509094238*x0 - 0.248313426971436)]\n",
      "Checking for brute force + \n",
      "\n",
      "Checking for brute force * \n",
      "\n",
      "Checking polyfit \n",
      "\n",
      "Complexity  RMSE  Expression\n",
      "[0.0, 26.581719830200157, '0']\n",
      "[5.0, 26.480792114834987, '0.25*x1']\n",
      "[7.754887502163468, 26.45920642671404, 'sin(0.25*x1)']\n",
      "[12.0, 26.326982224461158, 'log(0.25*x1 + 1)']\n",
      "[24.482315354707417, 26.324755296480895, '0.04*x0*x1 + 0.04*x1**2']\n",
      "[31.711134045203295, 26.158130961161415, '0.04*x0**2 + 0.04*x0*x1 + 0.04*x1**2']\n",
      "[35.28426862108327, 23.180774254356127, 'sqrt(0.000000175084+(sin(pi)/x0))']\n",
      "[46.491507923171774, 22.681095045152126, 0.989323735237122]\n",
      "[46.49154990398006, 22.67973212147986, 0.989352523867542]\n",
      "[53.16123057890947, 22.641614342355926, '-0.233153137389+(x0/(pi-1))']\n",
      "[56.406343076746, 22.265322751677147, 'tan(-0.233153137389+(x0/(pi-1)))']\n",
      "[58.36474132978604, 22.115910518469146, 'tan(-0.593824090276+exp((sin(x0)-1)))']\n",
      "[61.08957485787528, 21.297644067815952, '-0.245354741165+(x0/sqrt((pi+1)))']\n",
      "[61.13886035740587, 21.111311580647726, 'sin(-0.507762781030+log((pi+(sin((x0-1))-1))))']\n",
      "[62.01480223511638, 20.394306597503906, '-0.249659533288+log(sqrt(exp(x0)))']\n",
      "[94.78103363457441, 20.379333948330952, '0.251055761283*(x0+(x0-1))']\n",
      "[97.97291109592155, 20.13469924033376, tan(0.493335962295532*x0 - 0.246264755725861)]\n",
      "[97.9972836018656, 19.797609740940814, asin(0.497601509094238*x0 - 0.248313426971436)]\n",
      "Checking for brute force + \n",
      "\n",
      "Checking for brute force * \n",
      "\n",
      "Checking polyfit \n",
      "\n",
      "Complexity  RMSE  Expression\n",
      "[0.0, 26.581719830200157, '0']\n",
      "[5.0, 26.480792114834987, '0.25*x1']\n",
      "[7.754887502163468, 26.438919113660493, 'atan(0.25*x1)']\n",
      "[12.0, 26.326982224461158, 'log(0.25*x1 + 1)']\n",
      "[24.482315354707417, 26.324755296480895, '0.04*x0*x1 + 0.04*x1**2']\n",
      "[31.711134045203295, 26.158130961161415, '0.04*x0**2 + 0.04*x0*x1 + 0.04*x1**2']\n",
      "[35.28426862108327, 23.180774254356127, 'sqrt(0.000000175084+(sin(pi)/x0))']\n",
      "[46.491507923171774, 22.681095045152126, 0.989323735237122]\n",
      "[46.49154990398006, 22.67973212147986, 0.989352523867542]\n",
      "[53.16123057890947, 22.641614342355926, '-0.233153137389+(x0/(pi-1))']\n",
      "[56.406343076746, 22.265322751677147, 'tan(-0.233153137389+(x0/(pi-1)))']\n",
      "[58.36474132978604, 22.115910518469146, 'tan(-0.593824090276+exp((sin(x0)-1)))']\n",
      "[61.08957485787528, 21.297644067815952, '-0.245354741165+(x0/sqrt((pi+1)))']\n",
      "[61.13886035740587, 21.111311580647726, 'sin(-0.507762781030+log((pi+(sin((x0-1))-1))))']\n",
      "[62.01480223511638, 20.394306597503906, '-0.249659533288+log(sqrt(exp(x0)))']\n",
      "[94.78103363457441, 20.379333948330952, '0.251055761283*(x0+(x0-1))']\n",
      "[97.97291109592155, 20.13469924033376, tan(0.493335962295532*x0 - 0.246264755725861)]\n",
      "[97.9972836018656, 19.797609740940814, asin(0.497601509094238*x0 - 0.248313426971436)]\n",
      "Checking for symmetry \n",
      " duplicateVarsExample.txt_train-add_b\n",
      "Training a NN on the data... \n",
      "\n",
      "tensor(0.2252, device='cuda:0', grad_fn=<DivBackward0>)\n",
      "tensor(0.0245, device='cuda:0', grad_fn=<DivBackward0>)\n",
      "tensor(0.0418, device='cuda:0', grad_fn=<DivBackward0>)\n",
      "tensor(0.0350, device='cuda:0', grad_fn=<DivBackward0>)\n",
      "NN loss:  tensor(0.0251, device='cuda:0', grad_fn=<DivBackward0>) \n",
      "\n",
      "Checking for brute force + \n",
      "\n",
      "Checking for brute force * \n",
      "\n",
      "Checking polyfit \n",
      "\n",
      "Complexity  RMSE  Expression\n",
      "[0.0, 26.581719830200157, '0.0']\n",
      "Checking for brute force + \n",
      "\n",
      "Checking for brute force * \n",
      "\n",
      "Checking polyfit \n",
      "\n",
      "Complexity  RMSE  Expression\n",
      "[0.0, 26.581719830200157, '0.0']\n",
      "Checking for brute force + \n",
      "\n",
      "Checking for brute force * \n",
      "\n",
      "Checking polyfit \n",
      "\n",
      "Complexity  RMSE  Expression\n",
      "[0.0, 26.581719830200157, '0.0']\n",
      "Checking for brute force + \n",
      "\n",
      "Checking for brute force * \n",
      "\n",
      "Checking polyfit \n",
      "\n",
      "Complexity  RMSE  Expression\n",
      "[0.0, 26.571615402898274, 'tan(0.0)']\n",
      "Checking for brute force + \n",
      "\n",
      "Checking for brute force * \n",
      "\n",
      "Checking polyfit \n",
      "\n",
      "Complexity  RMSE  Expression\n",
      "[0.0, 26.571615402898274, 'tan(0.0)']\n",
      "[46.49155032001362, 22.679723307314077, 0.989352809169638]\n",
      "[46.49155799749393, 22.679291865782208, 0.989358074147127]\n",
      "Checking for brute force + \n",
      "\n",
      "Checking for brute force * \n",
      "\n",
      "Checking polyfit \n",
      "\n",
      "Complexity  RMSE  Expression\n",
      "[0.0, 26.571615402898274, 'tan(0.0)']\n",
      "[46.49155032001362, 22.679723307314077, 0.989352809169638]\n",
      "[46.49155799749393, 22.679291865782208, 0.989358074147127]\n",
      "Checking for brute force + \n",
      "\n",
      "Checking for brute force * \n",
      "\n",
      "Checking polyfit \n",
      "\n",
      "Complexity  RMSE  Expression\n",
      "[0.0, 26.571615402898274, 'tan(0.0)']\n",
      "[46.49155032001362, 22.679723307314077, 0.989352809169638]\n",
      "[46.49155799749393, 22.679291865782208, 0.989358074147127]\n",
      "Checking for brute force + \n",
      "\n",
      "Checking for brute force * \n",
      "\n",
      "Checking polyfit \n",
      "\n",
      "Complexity  RMSE  Expression\n",
      "[0.0, 26.571615402898274, 'tan(0.0)']\n",
      "[46.49155032001362, 22.679723307314077, 0.989352809169638]\n",
      "[46.49155799749393, 22.679291865782208, 0.989358074147127]\n",
      "Checking for brute force + \n",
      "\n",
      "Checking for brute force * \n",
      "\n",
      "Checking polyfit \n",
      "\n",
      "Complexity  RMSE  Expression\n",
      "[0.0, 26.571615402898274, 'tan(0.0)']\n",
      "[46.49155032001362, 22.679723307314077, 0.989352809169638]\n",
      "[46.49155799749393, 22.679291865782208, 0.989358074147127]\n",
      "Checking for brute force + \n",
      "\n",
      "Checking for brute force * \n",
      "\n",
      "Checking polyfit \n",
      "\n",
      "Complexity  RMSE  Expression\n",
      "[0.0, 26.571615402898274, 'tan(0.0)']\n",
      "[46.49155032001362, 22.679723307314077, 0.989352809169638]\n",
      "[46.49155799749393, 22.679291865782208, 0.989358074147127]\n",
      "Checking for symmetry \n",
      " duplicateVarsExample.txt_train-add_b-translated_divide\n",
      "Just one variable!\n",
      "duplicateVarsExample.txt_train-add_b-translated_divide just one variable for ADD \n",
      "\n",
      "duplicateVarsExample.txt_train-add_b-translated_divide just one variable for ADD \n",
      "\n",
      "duplicateVarsExample.txt_train-add_b-translated_divide just one variable for ADD \n",
      "\n",
      "duplicateVarsExample.txt_train-add_b-translated_divide just one variable for ADD \n",
      "\n",
      "duplicateVarsExample.txt_train-add_b-translated_divide just one variable for ADD\n",
      "duplicateVarsExample.txt_train-add_b-translated_divide just one variable for ADD\n"
     ]
    }
   ],
   "source": [
    "from S_run_aifeynman import run_aifeynman\n",
    "run_aifeynman(\"/content/AI-Feynman/example_data/\",\"duplicateVarsExample.txt\",30,\"14ops.txt\", polyfit_deg=3, NN_epochs=400)"
   ]
  },
  {
   "cell_type": "markdown",
   "metadata": {
    "id": "N68vBSQS23lc"
   },
   "source": [
    "Initial models quickly mapped to x0 and x2 (the system realized x1 and x3 are duplicates and so not needed)\n",
    "\n",
    "Later on the system found 3.000000000000+log(sqrt(exp((x2-x1)))) which is a bit crazy but looks like a plane\n",
    "\n",
    "We can see on Wolfram alpha that an equivalent form of this equation is:\n",
    "\n",
    "(x2 - x1)/2 + 3.000000000000 \n",
    "\n",
    "which is what we used to generate the dataset!\n",
    "\n",
    "Link: https://www.wolframalpha.com/input/?i=3.000000000000%2Blog%28sqrt%28exp%28%28x2-x1%29%29%29%29"
   ]
  },
  {
   "cell_type": "code",
   "execution_count": null,
   "metadata": {
    "id": "YSnT1Gg03BST"
   },
   "outputs": [],
   "source": [
    "!ls -l /content/AI-Feynman/Code/results/"
   ]
  },
  {
   "cell_type": "code",
   "execution_count": null,
   "metadata": {
    "colab": {
     "base_uri": "https://localhost:8080/",
     "height": 187
    },
    "id": "rfPnJPCaA6WW",
    "outputId": "0990fdcf-6ffc-45ca-dd19-c6f776280665"
   },
   "outputs": [
    {
     "name": "stdout",
     "output_type": "stream",
     "text": [
      "31.582960727362288 4.828684345339221 48286.84345339221 0.0 28.417039276692527 8.91505505199440e-11\n",
      "26.820678161409102 4.745273811165266 47452.73811165266 2.0 26.820678161409102 (3.0)+(tan(0.0))\n",
      "26.803754374446132 4.744363186542102 47443.63186542102 7.0 26.803754374446132 (3.0)+(0.25*x3)\n",
      "26.802949181437423 4.744319846889273 47443.19846889273 9.754887502163468 26.802949181437423 (3.0)+(atan(0.25*x3))\n",
      "26.745817145351275 4.741241376849119 47412.413768491184 12.0 26.745817145351275 x3*log(log(pi)) + 3.0\n",
      "26.744333346047053 4.7411613370706265 47411.61337070626 13.0 26.744333346047053 log(x3*log(log(pi)) + 1) + 3.0\n",
      "26.59733166596453 4.7332096118402935 47332.09611840294 18.253496664211536 26.59733166596453 (acos(0.04*x0*x1 - 1))+(tan(0.0))\n",
      "25.885882206233276 4.694093581827537 46940.93581827537 21.22881869049588 25.885882206233276 (3*exp(-0.08*x1))+(0.25*x3)\n",
      "3.267669587320286e-08 -24.867162647351474 -248671.62647351474 24.651484454403228 3.267669587320286e-08 0.5*log(exp(-x0 + x2)) + 3\n",
      "4.815513076050948e-09 -27.62966333362482 -276296.63333624817 33.65148445440323 4.815513076050948e-09 -0.25*x0 - 0.25*x1 + 0.25*x2 + 0.25*x3 + 3.0\n"
     ]
    }
   ],
   "source": [
    "!cat /content/AI-Feynman/Code/results/solution_duplicateVarsExample.txt"
   ]
  },
  {
   "cell_type": "markdown",
   "metadata": {
    "id": "Lr7TWHpdAzKP"
   },
   "source": [
    "The solver settled on *log(sqrt(exp(-x1 + x3))) + 3.0* which we know is correct\n",
    "\n",
    "Now, that was a bit of a softball problem as it has an exact solution. Let's now add noise to the dataset and see how the library holds up"
   ]
  },
  {
   "cell_type": "markdown",
   "metadata": {
    "id": "BBx752pb3gA6"
   },
   "source": [
    "### Let's add small amount of noise to every variabe and see the fit quality"
   ]
  },
  {
   "cell_type": "markdown",
   "metadata": {
    "id": "sxD1DilJBf2a"
   },
   "source": [
    "We do the same thing as before, but now we add or subtract noise to x0,x1,x2,x3 after generating y"
   ]
  },
  {
   "cell_type": "code",
   "execution_count": null,
   "metadata": {
    "id": "nEWAmNke3nuM"
   },
   "outputs": [],
   "source": [
    "import os\n",
    "import random\n",
    "import numpy as np\n",
    "\n",
    "os.chdir(\"/content/AI-Feynman/example_data\")\n",
    "\n",
    "def getY(x01,x23):\n",
    "  y = -0.5*x01+0.5*x23+3\n",
    "  return y\n",
    "\n",
    "def getRow():\n",
    "  x=[random.random() for x in range(4)]\n",
    "  x[1]=x[0]\n",
    "  x[3]=x[2]\n",
    "  y=getY(x[1],x[3])\n",
    "  mu=0\n",
    "  sigma=0.05\n",
    "  noise=np.random.normal(mu, sigma, 4)\n",
    "  x=x+noise\n",
    "  return str(x[0])+\" \"+str(x[1])+\" \"+str(x[2])+\" \"+str(x[3])+\" \"+str(y)+\"\\n\"\n",
    "\n",
    "with open(\"duplicateVarsWithNoise100k.txt\", \"w\") as f:\n",
    "  for _ in range(100000):\n",
    "    f.write(getRow())\n",
    "f.close()\n",
    "\n",
    "# switch back to the code directory\n",
    "os.chdir(\"/content/AI-Feynman/Code\")"
   ]
  },
  {
   "cell_type": "markdown",
   "metadata": {
    "id": "GhKiDHU4Eau_"
   },
   "source": [
    "Let's have a look at the data"
   ]
  },
  {
   "cell_type": "code",
   "execution_count": null,
   "metadata": {
    "colab": {
     "base_uri": "https://localhost:8080/",
     "height": 357
    },
    "id": "r66strV1DrLD",
    "outputId": "9f1a0449-16a1-428f-80c0-93b2ba78eb9e"
   },
   "outputs": [
    {
     "name": "stdout",
     "output_type": "stream",
     "text": [
      "0.15289264209469416 0.2829966068992473 0.6104708312181512 0.6043475260663228 3.1975315738942793\n",
      "0.889285380442479 0.9334684862177808 0.7503770699358906 0.6608418489900274 2.9144971423535893\n",
      "0.2755136981909549 0.23872363192436755 0.12637188597533267 0.08056372950063607 2.9518503868124246\n",
      "0.1746018418681348 0.12293457415378542 0.730846042126973 0.7463969158741828 3.274905931620777\n",
      "0.5491081265500859 0.5925961897911269 0.5997213933783978 0.5691240548756916 3.009675563632133\n",
      "0.6541729091302784 0.5836870480773635 0.7569529739603265 0.7674199995325519 3.0879595773602\n",
      "0.6946624498902666 0.7118597307891784 1.0358559774610916 1.0531623867719622 3.1207790611578794\n",
      "-0.07267132738470411 -0.041052948940529854 0.7707588567223276 0.7377414287774727 3.386093829729029\n",
      "0.31596844939707514 0.3051532368104879 0.6287666259268113 0.6019744696452333 3.1619212177846743\n",
      "0.14376489597328382 0.18788171663748351 0.2846780763048972 0.15587657746217742 3.0821567923558666\n",
      "0.3070047932793547 0.38652507330989566 0.8271239706001838 0.8949181221047366 3.22577943807369\n",
      "0.5871748599603506 0.6602956781618085 0.29973184106901357 0.25791371170072325 2.835003115420615\n",
      "0.43800401047649645 0.32947804395957103 0.3682691548056269 0.24714297128692714 2.9800417721657615\n",
      "0.1254273424145693 0.14157662103949706 0.8807568211022817 0.8084230170674015 3.3442467468171655\n",
      "0.9977537165401619 0.9278112365525913 0.5592521791775596 0.593560782176473 2.777906203752021\n",
      "0.7572850545702291 0.7221682080521802 0.48574977573125355 0.5764482752359664 2.9096304597404288\n",
      "0.35276643237768185 0.4102574749650775 0.9856930460033216 0.8552731652578567 3.2385588053397685\n",
      "-0.005510655610422549 0.035493948545520744 0.21758172335269305 0.3063357976367751 3.1051776697845406\n",
      "0.6609420239853631 0.6193812482403003 0.013227209160003538 0.051390933994947846 2.6921415133801245\n",
      "0.7565010242615771 0.811774832575652 0.12333167276991808 0.02394317239107912 2.676764905439099\n"
     ]
    }
   ],
   "source": [
    "!head -n 20 ../example_data/duplicateVarsWithNoise100k.txt"
   ]
  },
  {
   "cell_type": "markdown",
   "metadata": {
    "id": "EK45_2NtEquA"
   },
   "source": [
    "Now let's plot the data"
   ]
  },
  {
   "cell_type": "code",
   "execution_count": null,
   "metadata": {
    "colab": {
     "base_uri": "https://localhost:8080/",
     "height": 1000
    },
    "id": "yeHBIS9DEc8H",
    "outputId": "9854db14-e934-4e37-aa05-80b0ee3e410e"
   },
   "outputs": [
    {
     "data": {
      "text/plain": [
       "<matplotlib.axes._subplots.AxesSubplot at 0x7f49c72480f0>"
      ]
     },
     "execution_count": 18,
     "metadata": {
      "tags": []
     },
     "output_type": "execute_result"
    },
    {
     "data": {
      "image/png": "[encoded data removed]",
      "text/plain": [
       "<Figure size 432x288 with 1 Axes>"
      ]
     },
     "metadata": {
      "tags": []
     },
     "output_type": "display_data"
    },
    {
     "data": {
      "image/png": "[encoded data removed]",
      "text/plain": [
       "<Figure size 432x288 with 1 Axes>"
      ]
     },
     "metadata": {
      "tags": []
     },
     "output_type": "display_data"
    },
    {
     "data": {
      "image/png": "[encoded data removed]",
      "text/plain": [
       "<Figure size 432x288 with 1 Axes>"
      ]
     },
     "metadata": {
      "tags": []
     },
     "output_type": "display_data"
    },
    {
     "data": {
      "image/png": "[encoded data removed]",
      "text/plain": [
       "<Figure size 432x288 with 1 Axes>"
      ]
     },
     "metadata": {
      "tags": []
     },
     "output_type": "display_data"
    }
   ],
   "source": [
    "%matplotlib inline\n",
    "import matplotlib.pyplot as plt\n",
    "import pandas as pd\n",
    "plt.style.use('seaborn-whitegrid')\n",
    "import numpy as np\n",
    "\n",
    "df=pd.read_csv(\"../example_data/duplicateVarsWithNoise100k.txt\",sep=\" \",header=None)\n",
    "df.plot.scatter(x=0, y=4)\n",
    "df.plot.scatter(x=1, y=4)\n",
    "df.plot.scatter(x=2, y=4)\n",
    "df.plot.scatter(x=3, y=4)"
   ]
  },
  {
   "cell_type": "code",
   "execution_count": null,
   "metadata": {
    "colab": {
     "base_uri": "https://localhost:8080/",
     "height": 1000
    },
    "id": "3WaejzZWEwMx",
    "outputId": "297dbadd-5fef-4dfe-ca7c-e5abc39209ad"
   },
   "outputs": [
    {
     "name": "stdout",
     "output_type": "stream",
     "text": [
      "Checking for brute force + \n",
      "\n",
      "Checking for brute force * \n",
      "\n",
      "Checking polyfit \n",
      "\n",
      "Complexity  RMSE  Expression\n",
      "[14.298543993057573, 31.581628067077556, -2.01507231217991e-10]\n",
      "[33.65148445440323, 23.756310705463807, '-0.25*x0 - 0.25*x1 + 0.25*x2 + 0.25*x3 + 3']\n",
      "Checking for brute force + \n",
      "\n",
      "Checking for brute force * \n",
      "\n",
      "Checking polyfit \n",
      "\n",
      "Complexity  RMSE  Expression\n",
      "[14.298543993057573, 31.581628067077556, -2.01507231217991e-10]\n",
      "[33.65148445440323, 23.756310705463807, '-0.25*x0 - 0.25*x1 + 0.25*x2 + 0.25*x3 + 3']\n",
      "[46.8263695199547, 23.52960359812308, 1.24779089858445]\n",
      "[46.82645046311327, 23.52838791838819, 1.24786090850830]\n",
      "[95.73080411689963, 23.327546464035166, tan(0.0291788969188929*x2 + 0.88010545566829)]\n",
      "[96.45077266713301, 23.245315586041865, tan(0.0187515188008547*x2 - 2.25579309421493)]\n",
      "[114.00400153885663, 23.118715196684242, tan(x3*exp(-2.8512812870763*exp(x1)) + 0.886947154998779)]\n",
      "[142.49654530491821, 23.079708409481626, tan(-0.00579398358240724*x0 + 0.0330431312322617*x3 + 0.880579270247327)]\n",
      "[154.48905393484353, 21.06542746610416, -tan(0.0193605255335569*x0 - 0.0219580046832561*sin(x3) + 2.24687715856312)]\n",
      "Checking for brute force + \n",
      "\n",
      "Checking for brute force * \n",
      "\n",
      "Checking polyfit \n",
      "\n",
      "Complexity  RMSE  Expression\n",
      "[14.298543993057573, 31.581628067077556, -2.01507231217991e-10]\n",
      "[33.65148445440323, 23.756310705463807, '-0.25*x0 - 0.25*x1 + 0.25*x2 + 0.25*x3 + 3']\n",
      "[46.8263695199547, 23.52960359812308, 1.24779089858445]\n",
      "[46.82645046311327, 23.52838791838819, 1.24786090850830]\n",
      "[95.73080411689963, 23.327546464035166, tan(0.0291788969188929*x2 + 0.88010545566829)]\n",
      "[96.45077266713301, 23.245315586041865, tan(0.0187515188008547*x2 - 2.25579309421493)]\n",
      "[114.00400153885663, 23.118715196684242, tan(x3*exp(-2.8512812870763*exp(x1)) + 0.886947154998779)]\n",
      "[142.49654530491821, 23.079708409481626, tan(-0.00579398358240724*x0 + 0.0330431312322617*x3 + 0.880579270247327)]\n",
      "[154.48905393484353, 21.06542746610416, -tan(0.0193605255335569*x0 - 0.0219580046832561*sin(x3) + 2.24687715856312)]\n",
      "Checking for brute force + \n",
      "\n",
      "Checking for brute force * \n",
      "\n",
      "Checking polyfit \n",
      "\n",
      "Complexity  RMSE  Expression\n",
      "[14.298543993057573, 31.581628067077556, -2.01507231217991e-10]\n",
      "[33.65148445440323, 23.756310705463807, '-0.25*x0 - 0.25*x1 + 0.25*x2 + 0.25*x3 + 3']\n",
      "[46.8263695199547, 23.52960359812308, 1.24779089858445]\n",
      "[46.82645046311327, 23.52838791838819, 1.24786090850830]\n",
      "[95.73080411689963, 23.327546464035166, tan(0.0291788969188929*x2 + 0.88010545566829)]\n",
      "[96.45077266713301, 23.245315586041865, tan(0.0187515188008547*x2 - 2.25579309421493)]\n",
      "[114.00400153885663, 23.118715196684242, tan(x3*exp(-2.8512812870763*exp(x1)) + 0.886947154998779)]\n",
      "[142.49654530491821, 23.079708409481626, tan(-0.00579398358240724*x0 + 0.0330431312322617*x3 + 0.880579270247327)]\n",
      "[154.48905393484353, 21.06542746610416, -tan(0.0193605255335569*x0 - 0.0219580046832561*sin(x3) + 2.24687715856312)]\n",
      "Checking for brute force + \n",
      "\n",
      "Checking for brute force * \n",
      "\n",
      "Checking polyfit \n",
      "\n",
      "Complexity  RMSE  Expression\n",
      "[0.0, 28.41837193711479, 8.91505505199440e-11]\n",
      "[33.65148445440323, 23.756310705463807, '-0.25*x0 - 0.25*x1 + 0.25*x2 + 0.25*x3 + 3']\n",
      "[44.92493580414848, 23.677963582431364, 0.334005201613170]\n",
      "[46.8263695199547, 23.52960359812308, 1.24779089858445]\n",
      "[46.82645046311327, 23.52838791838819, 1.24786090850830]\n",
      "[95.73080411689963, 23.327546464035166, tan(0.0291788969188929*x2 + 0.88010545566829)]\n",
      "[96.45077266713301, 23.245315586041865, tan(0.0187515188008547*x2 - 2.25579309421493)]\n",
      "[114.00400153885663, 23.118715196684242, tan(x3*exp(-2.8512812870763*exp(x1)) + 0.886947154998779)]\n",
      "[142.49654530491821, 23.079708409481626, tan(-0.00579398358240724*x0 + 0.0330431312322617*x3 + 0.880579270247327)]\n",
      "[154.48905393484353, 21.06542746610416, -tan(0.0193605255335569*x0 - 0.0219580046832561*sin(x3) + 2.24687715856312)]\n",
      "Checking for brute force + \n",
      "\n",
      "Checking for brute force * \n",
      "\n",
      "Checking polyfit \n",
      "\n",
      "Complexity  RMSE  Expression\n",
      "[0.0, 28.41837193711479, 8.91505505199440e-11]\n",
      "[33.65148445440323, 23.756310705463807, '-0.25*x0 - 0.25*x1 + 0.25*x2 + 0.25*x3 + 3']\n",
      "[44.92493580414848, 23.677963582431364, 0.334005201613170]\n",
      "[46.8263695199547, 23.52960359812308, 1.24779089858445]\n",
      "[46.82645046311327, 23.52838791838819, 1.24786090850830]\n",
      "[95.73080411689963, 23.327546464035166, tan(0.0291788969188929*x2 + 0.88010545566829)]\n",
      "[96.45077266713301, 23.245315586041865, tan(0.0187515188008547*x2 - 2.25579309421493)]\n",
      "[114.00400153885663, 23.118715196684242, tan(x3*exp(-2.8512812870763*exp(x1)) + 0.886947154998779)]\n",
      "[142.49654530491821, 23.079708409481626, tan(-0.00579398358240724*x0 + 0.0330431312322617*x3 + 0.880579270247327)]\n",
      "[145.81027267458916, 22.82945379255092, 1.08758935751181*exp(-0.14597961306572*x0 + 0.157637149095535*x3)]\n",
      "[145.84481988298418, 22.81430156778135, 1.09561982186887*exp(-0.154504373669624*x0 + 0.151431009173393*x3)]\n",
      "[154.48905393484353, 21.06542746610416, -tan(0.0193605255335569*x0 - 0.0219580046832561*sin(x3) + 2.24687715856312)]\n",
      "Checking for brute force + \n",
      "\n",
      "Checking for brute force * \n",
      "\n",
      "Checking polyfit \n",
      "\n",
      "Complexity  RMSE  Expression\n",
      "[0.0, 28.41837193711479, 8.91505505199440e-11]\n",
      "[28.911626050994496, 26.558110629411125, 'asin(-0.012491483110+(x0/pi))']\n",
      "[33.65148445440323, 23.756310705463807, '-0.25*x0 - 0.25*x1 + 0.25*x2 + 0.25*x3 + 3']\n",
      "[44.92493580414848, 23.677963582431364, 0.334005201613170]\n",
      "[46.8263695199547, 23.52960359812308, 1.24779089858445]\n",
      "[46.82645046311327, 23.52838791838819, 1.24786090850830]\n",
      "[95.73080411689963, 23.327546464035166, tan(0.0291788969188929*x2 + 0.88010545566829)]\n",
      "[96.45077266713301, 23.245315586041865, tan(0.0187515188008547*x2 - 2.25579309421493)]\n",
      "[114.00400153885663, 23.118715196684242, tan(x3*exp(-2.8512812870763*exp(x1)) + 0.886947154998779)]\n",
      "[142.49654530491821, 23.079708409481626, tan(-0.00579398358240724*x0 + 0.0330431312322617*x3 + 0.880579270247327)]\n",
      "[145.81027267458916, 22.82945379255092, 1.08758935751181*exp(-0.14597961306572*x0 + 0.157637149095535*x3)]\n",
      "[145.84481988298418, 22.81430156778135, 1.09561982186887*exp(-0.154504373669624*x0 + 0.151431009173393*x3)]\n",
      "[154.48905393484353, 21.06542746610416, -tan(0.0193605255335569*x0 - 0.0219580046832561*sin(x3) + 2.24687715856312)]\n",
      "Checking for brute force + \n",
      "\n",
      "Checking for brute force * \n",
      "\n",
      "Checking polyfit \n",
      "\n",
      "Complexity  RMSE  Expression\n",
      "[0.0, 28.41837193711479, 8.91505505199440e-11]\n",
      "[9.643856189774725, 26.9145603063651, '3.06250000000000']\n",
      "[28.911626050994496, 26.558110629411125, 'asin(-0.012491483110+(x0/pi))']\n",
      "[33.65148445440323, 23.756310705463807, '-0.25*x0 - 0.25*x1 + 0.25*x2 + 0.25*x3 + 3']\n",
      "[44.92493580414848, 23.677963582431364, 0.334005201613170]\n",
      "[46.8263695199547, 23.52960359812308, 1.24779089858445]\n",
      "[46.82645046311327, 23.52838791838819, 1.24786090850830]\n",
      "[95.73080411689963, 23.327546464035166, tan(0.0291788969188929*x2 + 0.88010545566829)]\n",
      "[96.45077266713301, 23.245315586041865, tan(0.0187515188008547*x2 - 2.25579309421493)]\n",
      "[114.00400153885663, 23.118715196684242, tan(x3*exp(-2.8512812870763*exp(x1)) + 0.886947154998779)]\n",
      "[142.49654530491821, 23.079708409481626, tan(-0.00579398358240724*x0 + 0.0330431312322617*x3 + 0.880579270247327)]\n",
      "[145.81027267458916, 22.82945379255092, 1.08758935751181*exp(-0.14597961306572*x0 + 0.157637149095535*x3)]\n",
      "[145.84481988298418, 22.81430156778135, 1.09561982186887*exp(-0.154504373669624*x0 + 0.151431009173393*x3)]\n",
      "[154.48905393484353, 21.06542746610416, -tan(0.0193605255335569*x0 - 0.0219580046832561*sin(x3) + 2.24687715856312)]\n",
      "Checking for brute force + \n",
      "\n",
      "Checking for brute force * \n",
      "\n",
      "Checking polyfit \n",
      "\n",
      "Complexity  RMSE  Expression\n",
      "[0.0, 28.41837193711479, 8.91505505199440e-11]\n",
      "[9.643856189774725, 26.9145603063651, '3.06250000000000']\n",
      "[28.911626050994496, 26.558110629411125, 'asin(-0.012491483110+(x0/pi))']\n",
      "[33.65148445440323, 23.756310705463807, '-0.25*x0 - 0.25*x1 + 0.25*x2 + 0.25*x3 + 3']\n",
      "[44.92493580414848, 23.677963582431364, 0.334005201613170]\n",
      "[46.8263695199547, 23.52960359812308, 1.24779089858445]\n",
      "[46.82645046311327, 23.52838791838819, 1.24786090850830]\n",
      "[95.73080411689963, 23.327546464035166, tan(0.0291788969188929*x2 + 0.88010545566829)]\n",
      "[96.45077266713301, 23.245315586041865, tan(0.0187515188008547*x2 - 2.25579309421493)]\n",
      "[114.00400153885663, 23.118715196684242, tan(x3*exp(-2.8512812870763*exp(x1)) + 0.886947154998779)]\n",
      "[142.49654530491821, 23.079708409481626, tan(-0.00579398358240724*x0 + 0.0330431312322617*x3 + 0.880579270247327)]\n",
      "[145.81027267458916, 22.82945379255092, 1.08758935751181*exp(-0.14597961306572*x0 + 0.157637149095535*x3)]\n",
      "[145.84481988298418, 22.81430156778135, 1.09561982186887*exp(-0.154504373669624*x0 + 0.151431009173393*x3)]\n",
      "[154.48905393484353, 21.06542746610416, -tan(0.0193605255335569*x0 - 0.0219580046832561*sin(x3) + 2.24687715856312)]\n",
      "Checking for brute force + \n",
      "\n",
      "Checking for brute force * \n",
      "\n",
      "Checking polyfit \n",
      "\n",
      "Complexity  RMSE  Expression\n",
      "[0.0, 28.41837193711479, 8.91505505199440e-11]\n",
      "[9.643856189774725, 26.9145603063651, '3.06250000000000']\n",
      "[28.911626050994496, 26.558110629411125, 'asin(-0.012491483110+(x0/pi))']\n",
      "[33.65148445440323, 23.756310705463807, '-0.25*x0 - 0.25*x1 + 0.25*x2 + 0.25*x3 + 3']\n",
      "[44.92493580414848, 23.677963582431364, 0.334005201613170]\n",
      "[46.8263695199547, 23.52960359812308, 1.24779089858445]\n",
      "[46.82645046311327, 23.52838791838819, 1.24786090850830]\n",
      "[95.73080411689963, 23.327546464035166, tan(0.0291788969188929*x2 + 0.88010545566829)]\n",
      "[96.45077266713301, 23.245315586041865, tan(0.0187515188008547*x2 - 2.25579309421493)]\n",
      "[114.00400153885663, 23.118715196684242, tan(x3*exp(-2.8512812870763*exp(x1)) + 0.886947154998779)]\n",
      "[142.49654530491821, 23.079708409481626, tan(-0.00579398358240724*x0 + 0.0330431312322617*x3 + 0.880579270247327)]\n",
      "[145.81027267458916, 22.82945379255092, 1.08758935751181*exp(-0.14597961306572*x0 + 0.157637149095535*x3)]\n",
      "[145.84481988298418, 22.81430156778135, 1.09561982186887*exp(-0.154504373669624*x0 + 0.151431009173393*x3)]\n",
      "[154.48905393484353, 21.06542746610416, -tan(0.0193605255335569*x0 - 0.0219580046832561*sin(x3) + 2.24687715856312)]\n",
      "Checking for symmetry \n",
      " duplicateVarsWithNoise100k.txt_train\n",
      "Training a NN on the data... \n",
      "\n",
      "tensor(0.0190, device='cuda:0', grad_fn=<DivBackward0>)\n",
      "tensor(0.0089, device='cuda:0', grad_fn=<DivBackward0>)\n",
      "tensor(0.0087, device='cuda:0', grad_fn=<DivBackward0>)\n",
      "tensor(0.0088, device='cuda:0', grad_fn=<DivBackward0>)\n",
      "NN loss:  tensor(0.0081, device='cuda:0', grad_fn=<DivBackward0>) \n",
      "\n",
      "Checking for brute force + \n",
      "\n",
      "Checking for brute force * \n",
      "\n",
      "Checking polyfit \n",
      "\n",
      "Complexity  RMSE  Expression\n",
      "[14.298543993057573, 31.581628067077556, -2.01507231217991e-10]\n",
      "[26.509775004326936, 23.756310705463807, '-0.25*x0 + 0.25*x1 + 0.25*x2 + 3']\n",
      "[197.0219105047844, 23.74999015795025, -0.244121598575509*x0 + 0.244312566791028*x1 + 0.244312566791028*x2 + 2.99985003471375]\n",
      "Checking for brute force + \n",
      "\n",
      "Checking for brute force * \n",
      "\n",
      "Checking polyfit \n",
      "\n",
      "Complexity  RMSE  Expression\n",
      "[14.298543993057573, 31.581628067077556, -2.01507231217991e-10]\n",
      "[26.509775004326936, 23.756310705463807, '-0.25*x0 + 0.25*x1 + 0.25*x2 + 3']\n",
      "[46.8263695199547, 23.52960359812308, 1.24779089858445]\n",
      "[46.82645046311327, 23.52838791838819, 1.24786090850830]\n",
      "[95.73080411689963, 23.327546464035166, tan(0.0291788969188929*x1 + 0.88010545566829)]\n",
      "[96.45077266713301, 23.245315586041865, tan(0.0187515188008547*x1 - 2.25579309421493)]\n",
      "[152.94374894251638, 22.523596021990404, tan(0.0150537405008728*exp(-1.00211560726166*x0 + x1) + 0.883908987045288)]\n",
      "[154.4041954212848, 22.473709098793677, tan(0.0413302747828398*x2*exp(-1.00191366672516*x0) + 0.886154413223267)]\n",
      "Checking for brute force + \n",
      "\n",
      "Checking for brute force * \n",
      "\n",
      "Checking polyfit \n",
      "\n",
      "Complexity  RMSE  Expression\n",
      "[14.298543993057573, 31.581628067077556, -2.01507231217991e-10]\n",
      "[26.509775004326936, 23.756310705463807, '-0.25*x0 + 0.25*x1 + 0.25*x2 + 3']\n",
      "[46.8263695199547, 23.52960359812308, 1.24779089858445]\n",
      "[46.82645046311327, 23.52838791838819, 1.24786090850830]\n",
      "[95.73080411689963, 23.327546464035166, tan(0.0291788969188929*x1 + 0.88010545566829)]\n",
      "[96.45077266713301, 23.245315586041865, tan(0.0187515188008547*x1 - 2.25579309421493)]\n",
      "[152.94374894251638, 22.523596021990404, tan(0.0150537405008728*exp(-1.00211560726166*x0 + x1) + 0.883908987045288)]\n",
      "[154.4041954212848, 22.473709098793677, tan(0.0413302747828398*x2*exp(-1.00191366672516*x0) + 0.886154413223267)]\n",
      "Checking for brute force + \n",
      "\n",
      "Checking for brute force * \n",
      "\n",
      "Checking polyfit \n",
      "\n",
      "Complexity  RMSE  Expression\n",
      "[14.298543993057573, 31.581628067077556, -2.01507231217991e-10]\n",
      "[26.509775004326936, 23.756310705463807, '-0.25*x0 + 0.25*x1 + 0.25*x2 + 3']\n",
      "[46.8263695199547, 23.52960359812308, 1.24779089858445]\n",
      "[46.82645046311327, 23.52838791838819, 1.24786090850830]\n",
      "[95.73080411689963, 23.327546464035166, tan(0.0291788969188929*x1 + 0.88010545566829)]\n",
      "[96.45077266713301, 23.245315586041865, tan(0.0187515188008547*x1 - 2.25579309421493)]\n",
      "[152.94374894251638, 22.523596021990404, tan(0.0150537405008728*exp(-1.00211560726166*x0 + x1) + 0.883908987045288)]\n",
      "[154.4041954212848, 22.473709098793677, tan(0.0413302747828398*x2*exp(-1.00191366672516*x0) + 0.886154413223267)]\n",
      "Checking for brute force + \n",
      "\n",
      "Checking for brute force * \n",
      "\n",
      "Checking polyfit \n",
      "\n",
      "Complexity  RMSE  Expression\n",
      "[0.0, 28.41837193711479, 8.91505505199440e-11]\n",
      "[26.509775004326936, 23.756310705463807, '-0.25*x0 + 0.25*x1 + 0.25*x2 + 3']\n",
      "[44.92493580414848, 23.677963582431364, 0.334005201613170]\n",
      "[46.8263695199547, 23.52960359812308, 1.24779089858445]\n",
      "[46.82645046311327, 23.52838791838819, 1.24786090850830]\n",
      "[95.73080411689963, 23.327546464035166, tan(0.0291788969188929*x1 + 0.88010545566829)]\n",
      "[96.45077266713301, 23.245315586041865, tan(0.0187515188008547*x1 - 2.25579309421493)]\n",
      "[152.94374894251638, 22.523596021990404, tan(0.0150537405008728*exp(-1.00211560726166*x0 + x1) + 0.883908987045288)]\n",
      "[154.4041954212848, 22.473709098793677, tan(0.0413302747828398*x2*exp(-1.00191366672516*x0) + 0.886154413223267)]\n",
      "Checking for brute force + \n",
      "\n",
      "Checking for brute force * \n",
      "\n",
      "Checking polyfit \n",
      "\n",
      "Complexity  RMSE  Expression\n",
      "[0.0, 28.41837193711479, 8.91505505199440e-11]\n",
      "[22.253496664211536, 28.11173677174486, '3*exp(0.1*x1 + 0.1*x2)']\n",
      "[26.509775004326936, 23.756310705463807, '-0.25*x0 + 0.25*x1 + 0.25*x2 + 3']\n",
      "[44.92493580414848, 23.677963582431364, 0.334005201613170]\n",
      "[46.8263695199547, 23.52960359812308, 1.24779089858445]\n",
      "[46.82645046311327, 23.52838791838819, 1.24786090850830]\n",
      "[95.73080411689963, 23.327546464035166, tan(0.0291788969188929*x1 + 0.88010545566829)]\n",
      "[96.45077266713301, 23.245315586041865, tan(0.0187515188008547*x1 - 2.25579309421493)]\n",
      "[152.94374894251638, 22.523596021990404, tan(0.0150537405008728*exp(-1.00211560726166*x0 + x1) + 0.883908987045288)]\n",
      "[154.4041954212848, 22.473709098793677, tan(0.0413302747828398*x2*exp(-1.00191366672516*x0) + 0.886154413223267)]\n",
      "Checking for brute force + \n",
      "\n",
      "Checking for brute force * \n",
      "\n",
      "Checking polyfit \n",
      "\n",
      "Complexity  RMSE  Expression\n",
      "[0.0, 28.41837193711479, 8.91505505199440e-11]\n",
      "[22.253496664211536, 28.11173677174486, '3*exp(0.1*x1 + 0.1*x2)']\n",
      "[26.509775004326936, 23.756310705463807, '-0.25*x0 + 0.25*x1 + 0.25*x2 + 3']\n",
      "[44.92493580414848, 23.677963582431364, 0.334005201613170]\n",
      "[46.8263695199547, 23.52960359812308, 1.24779089858445]\n",
      "[46.82645046311327, 23.52838791838819, 1.24786090850830]\n",
      "[95.73080411689963, 23.327546464035166, tan(0.0291788969188929*x1 + 0.88010545566829)]\n",
      "[96.45077266713301, 23.245315586041865, tan(0.0187515188008547*x1 - 2.25579309421493)]\n",
      "[152.94374894251638, 22.523596021990404, tan(0.0150537405008728*exp(-1.00211560726166*x0 + x1) + 0.883908987045288)]\n",
      "[154.4041954212848, 22.473709098793677, tan(0.0413302747828398*x2*exp(-1.00191366672516*x0) + 0.886154413223267)]\n",
      "Checking for brute force + \n",
      "\n",
      "Checking for brute force * \n",
      "\n",
      "Checking polyfit \n",
      "\n",
      "Complexity  RMSE  Expression\n",
      "[0.0, 28.41837193711479, 8.91505505199440e-11]\n",
      "[9.643856189774725, 26.9145603063651, '3.06250000000000']\n",
      "[26.509775004326936, 23.756310705463807, '-0.25*x0 + 0.25*x1 + 0.25*x2 + 3']\n",
      "[44.92493580414848, 23.677963582431364, 0.334005201613170]\n",
      "[46.8263695199547, 23.52960359812308, 1.24779089858445]\n",
      "[46.82645046311327, 23.52838791838819, 1.24786090850830]\n",
      "[95.73080411689963, 23.327546464035166, tan(0.0291788969188929*x1 + 0.88010545566829)]\n",
      "[96.45077266713301, 23.245315586041865, tan(0.0187515188008547*x1 - 2.25579309421493)]\n",
      "[152.94374894251638, 22.523596021990404, tan(0.0150537405008728*exp(-1.00211560726166*x0 + x1) + 0.883908987045288)]\n",
      "[154.4041954212848, 22.473709098793677, tan(0.0413302747828398*x2*exp(-1.00191366672516*x0) + 0.886154413223267)]\n",
      "Checking for brute force + \n",
      "\n",
      "Checking for brute force * \n",
      "\n",
      "Checking polyfit \n",
      "\n",
      "Complexity  RMSE  Expression\n",
      "[0.0, 28.41837193711479, 8.91505505199440e-11]\n",
      "[9.643856189774725, 26.9145603063651, '3.06250000000000']\n",
      "[26.509775004326936, 23.756310705463807, '-0.25*x0 + 0.25*x1 + 0.25*x2 + 3']\n",
      "[44.92493580414848, 23.677963582431364, 0.334005201613170]\n",
      "[46.8263695199547, 23.52960359812308, 1.24779089858445]\n",
      "[46.82645046311327, 23.52838791838819, 1.24786090850830]\n",
      "[95.73080411689963, 23.327546464035166, tan(0.0291788969188929*x1 + 0.88010545566829)]\n",
      "[96.45077266713301, 23.245315586041865, tan(0.0187515188008547*x1 - 2.25579309421493)]\n",
      "[152.94374894251638, 22.523596021990404, tan(0.0150537405008728*exp(-1.00211560726166*x0 + x1) + 0.883908987045288)]\n",
      "[154.4041954212848, 22.473709098793677, tan(0.0413302747828398*x2*exp(-1.00191366672516*x0) + 0.886154413223267)]\n",
      "Checking for brute force + \n",
      "\n",
      "Checking for brute force * \n",
      "\n",
      "Checking polyfit \n",
      "\n",
      "Complexity  RMSE  Expression\n",
      "[0.0, 28.41837193711479, 8.91505505199440e-11]\n",
      "[9.643856189774725, 26.9145603063651, '3.06250000000000']\n",
      "[26.509775004326936, 23.756310705463807, '-0.25*x0 + 0.25*x1 + 0.25*x2 + 3']\n",
      "[44.92493580414848, 23.677963582431364, 0.334005201613170]\n",
      "[46.8263695199547, 23.52960359812308, 1.24779089858445]\n",
      "[46.82645046311327, 23.52838791838819, 1.24786090850830]\n",
      "[95.73080411689963, 23.327546464035166, tan(0.0291788969188929*x1 + 0.88010545566829)]\n",
      "[96.45077266713301, 23.245315586041865, tan(0.0187515188008547*x1 - 2.25579309421493)]\n",
      "[152.94374894251638, 22.523596021990404, tan(0.0150537405008728*exp(-1.00211560726166*x0 + x1) + 0.883908987045288)]\n",
      "[154.4041954212848, 22.473709098793677, tan(0.0413302747828398*x2*exp(-1.00191366672516*x0) + 0.886154413223267)]\n",
      "Checking for symmetry \n",
      " duplicateVarsWithNoise100k.txt_train-translated_plus\n",
      "Found pretrained NN \n",
      "\n",
      "tensor(0.0098, device='cuda:0', grad_fn=<DivBackward0>)\n",
      "tensor(0.0099, device='cuda:0', grad_fn=<DivBackward0>)\n",
      "tensor(0.0085, device='cuda:0', grad_fn=<DivBackward0>)\n",
      "NN loss after training:  tensor(0.0081, device='cuda:0', grad_fn=<DivBackward0>) \n",
      "\n",
      "Checking for brute force + \n",
      "\n",
      "Checking for brute force * \n",
      "\n",
      "Checking polyfit \n",
      "\n",
      "Complexity  RMSE  Expression\n",
      "[14.298543993057573, 31.581628067077556, -2.01507231217991e-10]\n",
      "[19.60964047443681, 23.75631070546381, '-0.25*x0 + 0.25*x1 + 3']\n",
      "[148.6479826674349, 23.74999015795024, -0.244121598575509*x0 + 0.244312566791028*x1 + 2.99985003471375]\n",
      "[148.69053316745254, 23.746876361020863, -0.247294768691063*x0 + 0.248475328087807*x1 + 2.99890239428963]\n",
      "[163.08150501516462, 23.743843002977975, log(exp(-0.996738731861115*x0 + x1)**0.246664792299271) + 2.99927544593811]\n",
      "Checking for brute force + \n",
      "\n",
      "Checking for brute force * \n",
      "\n",
      "Checking polyfit \n",
      "\n",
      "Complexity  RMSE  Expression\n",
      "[14.298543993057573, 31.581628067077556, -2.01507231217991e-10]\n",
      "[19.60964047443681, 23.75631070546381, '-0.25*x0 + 0.25*x1 + 3']\n",
      "[46.8263695199547, 23.52960359812308, 1.24779089858445]\n",
      "[46.82645046311327, 23.52838791838819, 1.24786090850830]\n",
      "[94.72439334351114, 23.307957375496308, tan(0.0145175343744696*x1 + 0.880543649196625)]\n",
      "[133.70642928995457, 23.23563426393143, tan(0.0363856028613149*x1*exp(-1.00488221645355*x0) + 0.878974258899689)]\n",
      "[142.76882022170133, 22.74241991045427, tan(-0.0151082882174285*x0 + 0.0150588639693525*x1 + 0.894916176795959)]\n",
      "Checking for brute force + \n",
      "\n",
      "Checking for brute force * \n",
      "\n",
      "Checking polyfit \n",
      "\n",
      "Complexity  RMSE  Expression\n",
      "[2.0, 27.152543202544063, '3.14159265358979']\n",
      "[19.60964047443681, 23.75631070546381, '-0.25*x0 + 0.25*x1 + 3']\n",
      "[46.8263695199547, 23.52960359812308, 1.24779089858445]\n",
      "[46.82645046311327, 23.52838791838819, 1.24786090850830]\n",
      "[94.72439334351114, 23.307957375496308, tan(0.0145175343744696*x1 + 0.880543649196625)]\n",
      "[133.70642928995457, 23.23563426393143, tan(0.0363856028613149*x1*exp(-1.00488221645355*x0) + 0.878974258899689)]\n",
      "[142.76882022170133, 22.74241991045427, tan(-0.0151082882174285*x0 + 0.0150588639693525*x1 + 0.894916176795959)]\n",
      "Checking for brute force + \n",
      "\n",
      "Checking for brute force * \n",
      "\n",
      "Checking polyfit \n",
      "\n",
      "Complexity  RMSE  Expression\n",
      "[2.0, 27.152543202544063, '3.14159265358979']\n",
      "[19.60964047443681, 23.75631070546381, '-0.25*x0 + 0.25*x1 + 3']\n",
      "[46.8263695199547, 23.52960359812308, 1.24779089858445]\n",
      "[46.82645046311327, 23.52838791838819, 1.24786090850830]\n",
      "[94.72439334351114, 23.307957375496308, tan(0.0145175343744696*x1 + 0.880543649196625)]\n",
      "[133.70642928995457, 23.23563426393143, tan(0.0363856028613149*x1*exp(-1.00488221645355*x0) + 0.878974258899689)]\n",
      "[142.76882022170133, 22.74241991045427, tan(-0.0151082882174285*x0 + 0.0150588639693525*x1 + 0.894916176795959)]\n",
      "Checking for brute force + \n",
      "\n",
      "Checking for brute force * \n",
      "\n",
      "Checking polyfit \n",
      "\n",
      "Complexity  RMSE  Expression\n",
      "[0.0, 28.41837193711479, 8.91505505199440e-11]\n",
      "[2.0, 27.152543202544063, '3.14159265358979']\n",
      "[19.60964047443681, 23.75631070546381, '-0.25*x0 + 0.25*x1 + 3']\n",
      "[44.92493580414848, 23.677963582431364, 0.334005201613170]\n",
      "[46.8263695199547, 23.52960359812308, 1.24779089858445]\n",
      "[46.82645046311327, 23.52838791838819, 1.24786090850830]\n",
      "[94.72439334351114, 23.307957375496308, tan(0.0145175343744696*x1 + 0.880543649196625)]\n",
      "[133.70642928995457, 23.23563426393143, tan(0.0363856028613149*x1*exp(-1.00488221645355*x0) + 0.878974258899689)]\n",
      "[142.76882022170133, 22.74241991045427, tan(-0.0151082882174285*x0 + 0.0150588639693525*x1 + 0.894916176795959)]\n",
      "Checking for brute force + \n",
      "\n",
      "Checking for brute force * \n",
      "\n",
      "Checking polyfit \n",
      "\n",
      "Complexity  RMSE  Expression\n",
      "[0.0, 28.41837193711479, 8.91505505199440e-11]\n",
      "[2.0, 27.152543202544063, '3.14159265358979']\n",
      "[19.60964047443681, 23.75631070546381, '-0.25*x0 + 0.25*x1 + 3']\n",
      "[44.92493580414848, 23.677963582431364, 0.334005201613170]\n",
      "[46.8263695199547, 23.52960359812308, 1.24779089858445]\n",
      "[46.82645046311327, 23.52838791838819, 1.24786090850830]\n",
      "[94.72439334351114, 23.307957375496308, tan(0.0145175343744696*x1 + 0.880543649196625)]\n",
      "[133.70642928995457, 23.23563426393143, tan(0.0363856028613149*x1*exp(-1.00488221645355*x0) + 0.878974258899689)]\n",
      "[142.76882022170133, 22.74241991045427, tan(-0.0151082882174285*x0 + 0.0150588639693525*x1 + 0.894916176795959)]\n",
      "Checking for brute force + \n",
      "\n",
      "Checking for brute force * \n",
      "\n",
      "Checking polyfit \n",
      "\n",
      "Complexity  RMSE  Expression\n",
      "[0.0, 28.41837193711479, 8.91505505199440e-11]\n",
      "[2.0, 27.152543202544063, '3.14159265358979']\n",
      "[19.60964047443681, 23.75631070546381, '-0.25*x0 + 0.25*x1 + 3']\n",
      "[44.92493580414848, 23.677963582431364, 0.334005201613170]\n",
      "[46.8263695199547, 23.52960359812308, 1.24779089858445]\n",
      "[46.82645046311327, 23.52838791838819, 1.24786090850830]\n",
      "[94.72439334351114, 23.307957375496308, tan(0.0145175343744696*x1 + 0.880543649196625)]\n",
      "[133.70642928995457, 23.23563426393143, tan(0.0363856028613149*x1*exp(-1.00488221645355*x0) + 0.878974258899689)]\n",
      "[142.76882022170133, 22.74241991045427, tan(-0.0151082882174285*x0 + 0.0150588639693525*x1 + 0.894916176795959)]\n",
      "Checking for brute force + \n",
      "\n",
      "Checking for brute force * \n",
      "\n",
      "Checking polyfit \n",
      "\n",
      "Complexity  RMSE  Expression\n",
      "[0.0, 28.41837193711479, 8.91505505199440e-11]\n",
      "[2.0, 27.152543202544063, '3.14159265358979']\n",
      "[9.643856189774725, 26.9145603063651, '3.06250000000000']\n",
      "[19.60964047443681, 23.75631070546381, '-0.25*x0 + 0.25*x1 + 3']\n",
      "[44.92493580414848, 23.677963582431364, 0.334005201613170]\n",
      "[46.8263695199547, 23.52960359812308, 1.24779089858445]\n",
      "[46.82645046311327, 23.52838791838819, 1.24786090850830]\n",
      "[94.72439334351114, 23.307957375496308, tan(0.0145175343744696*x1 + 0.880543649196625)]\n",
      "[133.70642928995457, 23.23563426393143, tan(0.0363856028613149*x1*exp(-1.00488221645355*x0) + 0.878974258899689)]\n",
      "[142.76882022170133, 22.74241991045427, tan(-0.0151082882174285*x0 + 0.0150588639693525*x1 + 0.894916176795959)]\n",
      "Checking for brute force + \n",
      "\n",
      "Checking for brute force * \n",
      "\n",
      "Checking polyfit \n",
      "\n",
      "Complexity  RMSE  Expression\n",
      "[0.0, 28.41837193711479, 8.91505505199440e-11]\n",
      "[2.0, 27.152543202544063, '3.14159265358979']\n",
      "[9.643856189774725, 26.9145603063651, '3.06250000000000']\n",
      "[17.93156856932417, 25.293845362147447, '(-x0 + x1 + 9)**0.5']\n",
      "[19.60964047443681, 23.75631070546381, '-0.25*x0 + 0.25*x1 + 3']\n",
      "[44.92493580414848, 23.677963582431364, 0.334005201613170]\n",
      "[46.8263695199547, 23.52960359812308, 1.24779089858445]\n",
      "[46.82645046311327, 23.52838791838819, 1.24786090850830]\n",
      "[94.72439334351114, 23.307957375496308, tan(0.0145175343744696*x1 + 0.880543649196625)]\n",
      "[133.70642928995457, 23.23563426393143, tan(0.0363856028613149*x1*exp(-1.00488221645355*x0) + 0.878974258899689)]\n",
      "[142.76882022170133, 22.74241991045427, tan(-0.0151082882174285*x0 + 0.0150588639693525*x1 + 0.894916176795959)]\n",
      "Checking for brute force + \n",
      "\n",
      "Checking for brute force * \n",
      "\n",
      "Checking polyfit \n",
      "\n",
      "Complexity  RMSE  Expression\n",
      "[0.0, 28.41837193711479, 8.91505505199440e-11]\n",
      "[2.0, 27.152543202544063, '3.14159265358979']\n",
      "[9.643856189774725, 26.9145603063651, '3.06250000000000']\n",
      "[17.93156856932417, 25.293845362147447, '(-x0 + x1 + 9)**0.5']\n",
      "[19.60964047443681, 23.75631070546381, '-0.25*x0 + 0.25*x1 + 3']\n",
      "[44.92493580414848, 23.677963582431364, 0.334005201613170]\n",
      "[46.8263695199547, 23.52960359812308, 1.24779089858445]\n",
      "[46.82645046311327, 23.52838791838819, 1.24786090850830]\n",
      "[94.72439334351114, 23.307957375496308, tan(0.0145175343744696*x1 + 0.880543649196625)]\n",
      "[133.70642928995457, 23.23563426393143, tan(0.0363856028613149*x1*exp(-1.00488221645355*x0) + 0.878974258899689)]\n",
      "[142.76882022170133, 22.74241991045427, tan(-0.0151082882174285*x0 + 0.0150588639693525*x1 + 0.894916176795959)]\n",
      "Checking for symmetry \n",
      " duplicateVarsWithNoise100k.txt_train-translated_plus-translated_plus\n",
      "Found pretrained NN \n",
      "\n",
      "tensor(0.0084, device='cuda:0', grad_fn=<DivBackward0>)\n",
      "tensor(0.0084, device='cuda:0', grad_fn=<DivBackward0>)\n",
      "tensor(0.0084, device='cuda:0', grad_fn=<DivBackward0>)\n",
      "NN loss after training:  tensor(0.0081, device='cuda:0', grad_fn=<DivBackward0>) \n",
      "\n",
      "Checking for brute force + \n",
      "\n",
      "Checking for brute force * \n",
      "\n",
      "Checking polyfit \n",
      "\n",
      "Complexity  RMSE  Expression\n",
      "[9.754887502163468, 23.75631070546381, '3.0 - 0.25*x0']\n",
      "[97.33202049539872, 23.743398270312234, 3.0000847199218 - 0.24624103307724*x0]\n",
      "[97.33204083945965, 23.743014020333312, 2.99994040258698 - 0.246256351470947*x0]\n",
      "Checking for brute force + \n",
      "\n",
      "Checking for brute force * \n",
      "\n",
      "Checking polyfit \n",
      "\n",
      "Complexity  RMSE  Expression\n",
      "[9.754887502163468, 23.75631070546381, '3.0 - 0.25*x0']\n",
      "[46.8263695199547, 23.52960359812308, 1.24779089858445]\n",
      "[46.82645046311327, 23.52838791838819, 1.24786090850830]\n",
      "[98.77503141559056, 20.703903921577588, -tan(0.00969366448633013*x0 - 0.895115911960602)]\n",
      "[98.77503230498766, 20.70388075381098, -tan(0.00969367046231229*x0 - 0.895115911960602)]\n",
      "Checking for brute force + \n",
      "\n",
      "Checking for brute force * \n",
      "\n",
      "Checking polyfit \n",
      "\n",
      "Complexity  RMSE  Expression\n",
      "[2.0, 27.152543202544063, '3.14159265358979']\n",
      "[9.754887502163468, 23.75631070546381, '3.0 - 0.25*x0']\n",
      "[46.8263695199547, 23.52960359812308, 1.24779089858445]\n",
      "[46.82645046311327, 23.52838791838819, 1.24786090850830]\n",
      "[98.77503141559056, 20.703903921577588, -tan(0.00969366448633013*x0 - 0.895115911960602)]\n",
      "[98.77503230498766, 20.70388075381098, -tan(0.00969367046231229*x0 - 0.895115911960602)]\n",
      "Checking for brute force + \n",
      "\n",
      "Checking for brute force * \n",
      "\n",
      "Checking polyfit \n",
      "\n",
      "Complexity  RMSE  Expression\n",
      "[2.0, 27.152543202544063, '3.14159265358979']\n",
      "[9.754887502163468, 23.75631070546381, '3.0 - 0.25*x0']\n",
      "[34.98176767829577, 23.745005671666124, 'log(0.6*x0**2 - 5*x0 + 20.1)']\n",
      "[46.8263695199547, 23.52960359812308, 1.24779089858445]\n",
      "[46.82645046311327, 23.52838791838819, 1.24786090850830]\n",
      "[98.77503141559056, 20.703903921577588, -tan(0.00969366448633013*x0 - 0.895115911960602)]\n",
      "[98.77503230498766, 20.70388075381098, -tan(0.00969367046231229*x0 - 0.895115911960602)]\n",
      "Checking for brute force + \n",
      "\n",
      "Checking for brute force * \n",
      "\n",
      "Checking polyfit \n",
      "\n",
      "Complexity  RMSE  Expression\n",
      "[0.0, 28.41837193711479, 8.91505505199440e-11]\n",
      "[2.0, 27.152543202544063, '3.14159265358979']\n",
      "[9.754887502163468, 23.75631070546381, '3.0 - 0.25*x0']\n",
      "[34.98176767829577, 23.745005671666124, 'log(0.6*x0**2 - 5*x0 + 20.1)']\n",
      "[44.92493580414848, 23.677963582431364, 0.334005201613170]\n",
      "[46.8263695199547, 23.52960359812308, 1.24779089858445]\n",
      "[46.82645046311327, 23.52838791838819, 1.24786090850830]\n",
      "[90.99992632646352, 20.8355488454032, 0.0273812562227249*x0 + 0.334880835170863]\n",
      "[98.77503141559056, 20.703903921577588, -tan(0.00969366448633013*x0 - 0.895115911960602)]\n",
      "[98.77503230498766, 20.70388075381098, -tan(0.00969367046231229*x0 - 0.895115911960602)]\n",
      "Checking for brute force + \n",
      "\n",
      "Checking for brute force * \n",
      "\n",
      "Checking polyfit \n",
      "\n",
      "Complexity  RMSE  Expression\n",
      "[0.0, 28.41837193711479, 8.91505505199440e-11]\n",
      "[2.0, 27.152543202544063, '3.14159265358979']\n",
      "[9.754887502163468, 23.75631070546381, '3.0 - 0.25*x0']\n",
      "[34.98176767829577, 23.745005671666124, 'log(0.6*x0**2 - 5*x0 + 20.1)']\n",
      "[44.92493580414848, 23.677963582431364, 0.334005201613170]\n",
      "[46.8263695199547, 23.52960359812308, 1.24779089858445]\n",
      "[46.82645046311327, 23.52838791838819, 1.24786090850830]\n",
      "[90.99992632646352, 20.8355488454032, 0.0273812562227249*x0 + 0.334880835170863]\n",
      "[98.77503141559056, 20.703903921577588, -tan(0.00969366448633013*x0 - 0.895115911960602)]\n",
      "[98.77503230498766, 20.70388075381098, -tan(0.00969367046231229*x0 - 0.895115911960602)]\n",
      "Checking for brute force + \n",
      "\n",
      "Checking for brute force * \n",
      "\n",
      "Checking polyfit \n",
      "\n",
      "Complexity  RMSE  Expression\n",
      "[0.0, 28.41837193711479, 8.91505505199440e-11]\n",
      "[2.0, 27.152543202544063, '3.14159265358979']\n",
      "[9.754887502163468, 23.75631070546381, '3.0 - 0.25*x0']\n",
      "[34.98176767829577, 23.745005671666124, 'log(0.6*x0**2 - 5*x0 + 20.1)']\n",
      "[44.92493580414848, 23.677963582431364, 0.334005201613170]\n",
      "[46.8263695199547, 23.52960359812308, 1.24779089858445]\n",
      "[46.82645046311327, 23.52838791838819, 1.24786090850830]\n",
      "[90.99992632646352, 20.8355488454032, 0.0273812562227249*x0 + 0.334880835170863]\n",
      "[98.77503141559056, 20.703903921577588, -tan(0.00969366448633013*x0 - 0.895115911960602)]\n",
      "[98.77503230498766, 20.70388075381098, -tan(0.00969367046231229*x0 - 0.895115911960602)]\n",
      "Checking for brute force + \n",
      "\n",
      "Checking for brute force * \n",
      "\n",
      "Checking polyfit \n",
      "\n",
      "Complexity  RMSE  Expression\n",
      "[0.0, 28.41837193711479, 8.91505505199440e-11]\n",
      "[2.0, 27.152543202544063, '3.14159265358979']\n",
      "[9.643856189774725, 26.9145603063651, '3.06250000000000']\n",
      "[9.754887502163468, 23.75631070546381, '3.0 - 0.25*x0']\n",
      "[34.98176767829577, 23.745005671666124, 'log(0.6*x0**2 - 5*x0 + 20.1)']\n",
      "[44.92493580414848, 23.677963582431364, 0.334005201613170]\n",
      "[46.8263695199547, 23.52960359812308, 1.24779089858445]\n",
      "[46.82645046311327, 23.52838791838819, 1.24786090850830]\n",
      "[90.99992632646352, 20.8355488454032, 0.0273812562227249*x0 + 0.334880835170863]\n",
      "[98.77503141559056, 20.703903921577588, -tan(0.00969366448633013*x0 - 0.895115911960602)]\n",
      "[98.77503230498766, 20.70388075381098, -tan(0.00969367046231229*x0 - 0.895115911960602)]\n",
      "Checking for brute force + \n",
      "\n",
      "Checking for brute force * \n",
      "\n",
      "Checking polyfit \n",
      "\n",
      "Complexity  RMSE  Expression\n",
      "[0.0, 28.41837193711479, 8.91505505199440e-11]\n",
      "[2.0, 27.152543202544063, '3.14159265358979']\n",
      "[9.643856189774725, 26.9145603063651, '3.06250000000000']\n",
      "[9.754887502163468, 23.75631070546381, '3.0 - 0.25*x0']\n",
      "[34.98176767829577, 23.745005671666124, 'log(0.6*x0**2 - 5*x0 + 20.1)']\n",
      "[44.92493580414848, 23.677963582431364, 0.334005201613170]\n",
      "[46.8263695199547, 23.52960359812308, 1.24779089858445]\n",
      "[46.82645046311327, 23.52838791838819, 1.24786090850830]\n",
      "[90.99992632646352, 20.8355488454032, 0.0273812562227249*x0 + 0.334880835170863]\n",
      "[98.77503141559056, 20.703903921577588, -tan(0.00969366448633013*x0 - 0.895115911960602)]\n",
      "[98.77503230498766, 20.70388075381098, -tan(0.00969367046231229*x0 - 0.895115911960602)]\n",
      "Checking for brute force + \n",
      "\n",
      "Checking for brute force * \n",
      "\n",
      "Checking polyfit \n",
      "\n",
      "Complexity  RMSE  Expression\n",
      "[0.0, 28.41837193711479, 8.91505505199440e-11]\n",
      "[2.0, 27.152543202544063, '3.14159265358979']\n",
      "[9.643856189774725, 26.9145603063651, '3.06250000000000']\n",
      "[9.754887502163468, 23.75631070546381, '3.0 - 0.25*x0']\n",
      "[34.98176767829577, 23.745005671666124, 'log(0.6*x0**2 - 5*x0 + 20.1)']\n",
      "[44.92493580414848, 23.677963582431364, 0.334005201613170]\n",
      "[46.8263695199547, 23.52960359812308, 1.24779089858445]\n",
      "[46.82645046311327, 23.52838791838819, 1.24786090850830]\n",
      "[90.99992632646352, 20.8355488454032, 0.0273812562227249*x0 + 0.334880835170863]\n",
      "[98.77503141559056, 20.703903921577588, -tan(0.00969366448633013*x0 - 0.895115911960602)]\n",
      "[98.77503230498766, 20.70388075381098, -tan(0.00969367046231229*x0 - 0.895115911960602)]\n",
      "Checking for symmetry \n",
      " duplicateVarsWithNoise100k.txt_train-translated_plus-translated_plus-translated_minus\n",
      "Just one variable!\n",
      "duplicateVarsWithNoise100k.txt_train-translated_plus-translated_plus-translated_minus just one variable for ADD \n",
      "\n",
      "duplicateVarsWithNoise100k.txt_train-translated_plus-translated_plus-translated_minus just one variable for ADD \n",
      "\n",
      "duplicateVarsWithNoise100k.txt_train-translated_plus-translated_plus-translated_minus just one variable for ADD \n",
      "\n",
      "duplicateVarsWithNoise100k.txt_train-translated_plus-translated_plus-translated_minus just one variable for ADD \n",
      "\n",
      "duplicateVarsWithNoise100k.txt_train-translated_plus-translated_plus-translated_minus just one variable for ADD\n",
      "duplicateVarsWithNoise100k.txt_train-translated_plus-translated_plus-translated_minus just one variable for ADD\n"
     ]
    }
   ],
   "source": [
    "from S_run_aifeynman import run_aifeynman\n",
    "run_aifeynman(\"/content/AI-Feynman/example_data/\",\"duplicateVarsWithNoise100k.txt\",30,\"14ops.txt\", polyfit_deg=3, NN_epochs=600)"
   ]
  },
  {
   "cell_type": "code",
   "execution_count": null,
   "metadata": {
    "colab": {
     "base_uri": "https://localhost:8080/",
     "height": 204
    },
    "id": "MU7AgMaY6GEj",
    "outputId": "f41ad54c-7610-48ac-ca56-4941a9cf62aa"
   },
   "outputs": [
    {
     "name": "stdout",
     "output_type": "stream",
     "text": [
      "31.581628066937117 4.828752001138368 482875.20011383685 0.0 28.41837193711479 8.91505505199440e-11\n",
      "26.839728820466323 4.746298189996813 474629.81899968133 2.0 26.839728820466323 3\n",
      "23.756310705463807 4.570238901556437 457023.89015564375 9.754887502163468 23.75631070546381 3.0 - 0.25*((x0+x1)-(x2+x3))\n",
      "23.756310705463807 4.570238901556437 457023.89015564375 26.509775004326936 23.756310705463807 -0.25*(x0+x1) + 0.25*x2 + 0.25*x3 + 3\n",
      "23.745005671666114 4.569552195681785 456955.2195681785 34.98176767829577 23.745005671666124 log(0.6*((x0+x1)-(x2+x3))**2 - 5*((x0+x1)-(x2+x3)) + 20.1)\n",
      "31.410443124425957 4.565473102549251 456547.31025492505 44.92493580414848 23.677963582431364 0.334005201613170\n",
      "30.79927262051402 4.5564051106540235 455640.51106540236 46.8263695199547 23.52960359812308 1.24779089858445\n",
      "30.799214170258804 4.556330570493311 455633.05704933114 46.82645046311327 23.52838791838819 1.24786090850830\n",
      "31.408971447832 4.380975198580926 438097.5198580926 90.99992632646352 20.8355488454032 0.0273812562227249*((x0+x1)-(x2+x3)) + 0.334880835170863\n",
      "30.80116426099759 4.3718309223833005 437183.09223833005 98.77503141559056 20.703903921577588 -tan(0.00969366448633013*((x0+x1)-(x2+x3)) - 0.895115911960602)\n",
      "30.801164261893312 4.37182930799981 437182.93079998094 98.77503230498766 20.70388075381098 -tan(0.00969367046231229*((x0+x1)-(x2+x3)) - 0.895115911960602)\n"
     ]
    }
   ],
   "source": [
    "!cat /content/AI-Feynman/Code/results/solution_duplicateVarsWithNoise100k.txt"
   ]
  },
  {
   "cell_type": "code",
   "execution_count": null,
   "metadata": {
    "id": "YCqI4u3z7bwX"
   },
   "outputs": [],
   "source": [
    "!cp -r /content/AI-Feynman /content/gdrive/My\\ Drive/Lemay.ai_research/"
   ]
  },
  {
   "cell_type": "code",
   "execution_count": null,
   "metadata": {
    "id": "DWwOCnPbJWIe"
   },
   "outputs": [],
   "source": [
    "# from S_run_aifeynman import run_aifeynman\n",
    "# run_aifeynman(\"/content/gdrive/My Drive/Lemay.ai_research/AI-Feynman/example_data/\",\"duplicateVarsWithNoise.txt\",30,\"19ops.txt\", polyfit_deg=3, NN_epochs=1000)"
   ]
  },
  {
   "cell_type": "code",
   "execution_count": null,
   "metadata": {
    "id": "5BlxdiAGuuOh"
   },
   "outputs": [],
   "source": [
    "import os\n",
    "import random\n",
    "import numpy as np\n",
    "os.chdir(\"/content/gdrive/My Drive/Lemay.ai_research/AI-Feynman/example_data\")\n",
    "\n",
    "def getY(x01,x23):\n",
    "  y = -0.5*x01+0.5*x23+3\n",
    "  return y\n",
    "\n",
    "def getRow():\n",
    "  x=[0 for x in range(4)]\n",
    "  x[1]=random.random()\n",
    "  x[3]=random.random()\n",
    "  y=getY(x[1],x[3])\n",
    "  mu=0\n",
    "  sigma=0.05\n",
    "  noise=np.random.normal(mu, sigma, 4)\n",
    "  x=x+noise\n",
    "  return str(x[1])+\" \"+str(x[3])+\" \"+str(y)+\"\\n\"\n",
    "\n",
    "with open(\"varsWithNoise.txt\", \"w\") as f:\n",
    "  for _ in range(100000):\n",
    "    f.write(getRow())\n",
    "f.close()\n",
    "\n",
    "# switch back to the code directory\n",
    "os.chdir(\"/content/gdrive/My Drive/Lemay.ai_research/AI-Feynman/Code\")"
   ]
  },
  {
   "cell_type": "code",
   "execution_count": null,
   "metadata": {
    "id": "hhBVHdOdmN6u"
   },
   "outputs": [],
   "source": [
    "%matplotlib inline\n",
    "import matplotlib.pyplot as plt\n",
    "import pandas as pd\n",
    "plt.style.use('seaborn-whitegrid')\n",
    "import numpy as np\n",
    "\n",
    "df=pd.read_csv(\"../example_data/varsWithNoise.txt\",sep=\" \",header=None)\n",
    "df.plot.scatter(x=0, y=2)\n",
    "df.plot.scatter(x=1, y=2)"
   ]
  },
  {
   "cell_type": "code",
   "execution_count": null,
   "metadata": {
    "id": "0cOAKEZ5RMEW"
   },
   "outputs": [],
   "source": [
    "from S_run_aifeynman import run_aifeynman\n",
    "run_aifeynman(\"/content/gdrive/My Drive/Lemay.ai_research/AI-Feynman/example_data/\",\"varsWithNoise.txt\",30,\"14ops.txt\", polyfit_deg=3, NN_epochs=1000)"
   ]
  },
  {
   "cell_type": "code",
   "execution_count": null,
   "metadata": {
    "id": "xnrg6-NzRg4t"
   },
   "outputs": [],
   "source": []
  }
 ],
 "metadata": {
  "accelerator": "GPU",
  "colab": {
   "collapsed_sections": [],
   "machine_shape": "hm",
   "name": "Copy of AI-Feynman 2.0.ipynb",
   "provenance": []
  },
  "kernelspec": {
   "display_name": "Python 3 (ipykernel)",
   "language": "python",
   "name": "python3"
  },
  "language_info": {
   "codemirror_mode": {
    "name": "ipython",
    "version": 3
   },
   "file_extension": ".py",
   "mimetype": "text/x-python",
   "name": "python",
   "nbconvert_exporter": "python",
   "pygments_lexer": "ipython3",
   "version": "3.10.4"
  }
 },
 "nbformat": 4,
 "nbformat_minor": 1
}
